{
  "nbformat": 4,
  "nbformat_minor": 0,
  "metadata": {
    "colab": {
      "provenance": [],
      "authorship_tag": "ABX9TyMaYY+D82LGXaEGkHHDiR9D",
      "include_colab_link": true
    },
    "kernelspec": {
      "name": "python3",
      "display_name": "Python 3"
    },
    "language_info": {
      "name": "python"
    }
  },
  "cells": [
    {
      "cell_type": "markdown",
      "metadata": {
        "id": "view-in-github",
        "colab_type": "text"
      },
      "source": [
        "<a href=\"https://colab.research.google.com/github/Tousyf/DemoJUnit/blob/master/Functions.ipynb\" target=\"_parent\"><img src=\"https://colab.research.google.com/assets/colab-badge.svg\" alt=\"Open In Colab\"/></a>"
      ]
    },
    {
      "cell_type": "code",
      "execution_count": null,
      "metadata": {
        "colab": {
          "base_uri": "https://localhost:8080/"
        },
        "id": "_zIaOosy0Se7",
        "outputId": "343d4c95-d74b-4a34-94c3-4f722824d6ea"
      },
      "outputs": [
        {
          "output_type": "stream",
          "name": "stdout",
          "text": [
            "Hi \n",
            "Python\n"
          ]
        }
      ],
      "source": [
        "def greet():\n",
        "  print(\"Hi \")\n",
        "  print(\"Python\")\n",
        "greet()\n",
        "#greet()\n",
        "#greet()"
      ]
    },
    {
      "cell_type": "markdown",
      "source": [],
      "metadata": {
        "id": "eOnHqjQPBI1t"
      }
    },
    {
      "cell_type": "markdown",
      "source": [],
      "metadata": {
        "id": "rNNRVhezBJLH"
      }
    },
    {
      "cell_type": "code",
      "source": [
        "def python():\n",
        "  print(\"We have started functions\")\n",
        "  print(\"This is our first lecture\")\n",
        "\n",
        "python()\n",
        "for i in range(5):\n",
        "  python()"
      ],
      "metadata": {
        "colab": {
          "base_uri": "https://localhost:8080/"
        },
        "id": "xyQrB_7n_TsW",
        "outputId": "eb1e842b-5e33-4fa7-fcc6-db2a5fd2ae29"
      },
      "execution_count": null,
      "outputs": [
        {
          "output_type": "stream",
          "name": "stdout",
          "text": [
            "We have started functions\n",
            "This is our first lecture\n",
            "We have started functions\n",
            "This is our first lecture\n",
            "We have started functions\n",
            "This is our first lecture\n",
            "We have started functions\n",
            "This is our first lecture\n",
            "We have started functions\n",
            "This is our first lecture\n",
            "We have started functions\n",
            "This is our first lecture\n"
          ]
        }
      ]
    },
    {
      "cell_type": "code",
      "source": [],
      "metadata": {
        "id": "FaTAGdN_BCyO"
      },
      "execution_count": null,
      "outputs": []
    },
    {
      "cell_type": "code",
      "source": [
        "#function with arguments"
      ],
      "metadata": {
        "id": "SC3LkWwY_T0N"
      },
      "execution_count": null,
      "outputs": []
    },
    {
      "cell_type": "code",
      "source": [
        "def function(name):\n",
        "  print(\"Hi\", name)\n",
        "  print(\"Are you from Socs Department\")\n",
        "function(\"sir\")\n",
        "function(\"madam\")"
      ],
      "metadata": {
        "colab": {
          "base_uri": "https://localhost:8080/"
        },
        "id": "EuWbTBOm_T3D",
        "outputId": "b57312ae-e881-485f-df63-7fdfa39c2cea"
      },
      "execution_count": null,
      "outputs": [
        {
          "output_type": "stream",
          "name": "stdout",
          "text": [
            "Hi sir\n",
            "Are you from Socs Department\n",
            "Hi madam\n",
            "Are you from Socs Department\n"
          ]
        }
      ]
    },
    {
      "cell_type": "code",
      "source": [
        "#what is parameters and arguments:\n",
        "\n",
        "\"\"\"\n",
        "\n",
        "1.  Actual name is argument\n",
        "2. parameter is variable name\n",
        "\n",
        "\"\"\""
      ],
      "metadata": {
        "id": "OPIodHxRPZbG"
      },
      "execution_count": null,
      "outputs": []
    },
    {
      "cell_type": "code",
      "source": [
        "#sum of two numbers with function\n",
        "def add(x, y):\n",
        "  sum = x + y\n",
        "  print(f\"sum is {sum}\")\n",
        "add(10,-3)\n"
      ],
      "metadata": {
        "colab": {
          "base_uri": "https://localhost:8080/"
        },
        "id": "PQsZ_f33QU_c",
        "outputId": "36040ce6-a078-4435-d565-48e17baaa017"
      },
      "execution_count": null,
      "outputs": [
        {
          "output_type": "stream",
          "name": "stdout",
          "text": [
            "sum is 7\n"
          ]
        }
      ]
    },
    {
      "cell_type": "code",
      "source": [
        "add (5,9)"
      ],
      "metadata": {
        "colab": {
          "base_uri": "https://localhost:8080/"
        },
        "id": "5rkqIJRJRWt6",
        "outputId": "8405a091-71d2-489f-b9e4-36a110b86529"
      },
      "execution_count": null,
      "outputs": [
        {
          "output_type": "stream",
          "name": "stdout",
          "text": [
            "sum is 14\n"
          ]
        }
      ]
    },
    {
      "cell_type": "code",
      "source": [
        "add(10,12)"
      ],
      "metadata": {
        "colab": {
          "base_uri": "https://localhost:8080/"
        },
        "id": "4nwt4XhBRWwr",
        "outputId": "06549208-6604-4248-fc7b-2a35c3e417f9"
      },
      "execution_count": null,
      "outputs": [
        {
          "output_type": "stream",
          "name": "stdout",
          "text": [
            "sum is 22\n"
          ]
        }
      ]
    },
    {
      "cell_type": "markdown",
      "source": [
        "**Types of Arguments**"
      ],
      "metadata": {
        "id": "VzYRyfWKSIT5"
      }
    },
    {
      "cell_type": "code",
      "source": [
        "\"\"\"\n",
        "1......Default\n",
        "2......Key word\n",
        "3......Positional\n",
        "4......Arbitrary\\Variable length\n",
        "       Two Types.... Arbitrary positional and Arbitrary keyword\n",
        "\n",
        "\n",
        "\"\"\""
      ],
      "metadata": {
        "id": "H2CPkMRIRb1A"
      },
      "execution_count": null,
      "outputs": []
    },
    {
      "cell_type": "markdown",
      "source": [
        "**Positional arguments**"
      ],
      "metadata": {
        "id": "UyxkY4coVDFn"
      }
    },
    {
      "cell_type": "code",
      "source": [
        "def UPES(Name, dept):\n",
        "  print(f\"Hi {Name}\")\n",
        "  print(f\"Are you from {dept} department\")\n",
        "#UPES(\"Socs\" , \"Touseef\")\n",
        "UPES(\"Touseef\" , \"SoCs\")"
      ],
      "metadata": {
        "colab": {
          "base_uri": "https://localhost:8080/"
        },
        "id": "n4y790a2U9V_",
        "outputId": "ceadc7cd-a34c-4fdd-80fa-33c6ff807e1f"
      },
      "execution_count": null,
      "outputs": [
        {
          "output_type": "stream",
          "name": "stdout",
          "text": [
            "Hi Touseef\n",
            "Are you from SoCs department\n"
          ]
        }
      ]
    },
    {
      "cell_type": "markdown",
      "source": [
        "**Key Word Arguments**"
      ],
      "metadata": {
        "id": "x82JteiNW5Qn"
      }
    },
    {
      "cell_type": "code",
      "source": [
        "def UPES(Name, dept):\n",
        "  print(f\"Hi {Name}\")\n",
        "  print(f\"Are you from {dept} department\")\n",
        "UPES(   dept = \"Socs\" ,Name = \"Touseef\")"
      ],
      "metadata": {
        "colab": {
          "base_uri": "https://localhost:8080/"
        },
        "id": "uBqoqq2dW4Df",
        "outputId": "3d3f036c-028e-4817-dfc7-f16045b32a5c"
      },
      "execution_count": null,
      "outputs": [
        {
          "output_type": "stream",
          "name": "stdout",
          "text": [
            "Hi Touseef\n",
            "Are you from Socs department\n"
          ]
        }
      ]
    },
    {
      "cell_type": "code",
      "source": [
        "#Mixture of argument\n",
        "UPES( \"Touseef\", dept = \"Socs\" , )"
      ],
      "metadata": {
        "colab": {
          "base_uri": "https://localhost:8080/"
        },
        "id": "tAUlZMbuXra7",
        "outputId": "5cd22dbf-ce34-47ab-82d7-207568c360e6"
      },
      "execution_count": null,
      "outputs": [
        {
          "output_type": "stream",
          "name": "stdout",
          "text": [
            "Hi Touseef\n",
            "Are you from Socs department\n"
          ]
        }
      ]
    },
    {
      "cell_type": "code",
      "source": [
        "#UPES(dept = \"Socs\", \"Touseef\" )    #.....Keyword argument should follow positional argument"
      ],
      "metadata": {
        "id": "ADneIa9eX37i"
      },
      "execution_count": null,
      "outputs": []
    },
    {
      "cell_type": "markdown",
      "source": [
        "**Default arguments**"
      ],
      "metadata": {
        "id": "jAJzWiajaBMa"
      }
    },
    {
      "cell_type": "code",
      "source": [
        "#def UPES1( dept = \"Socs\", Name = \"Touseef\" , student):\n",
        "def UPES1(Name, student, dept = \"Socs\" ):\n",
        "  print(f\"Hi {Name}\")\n",
        "  print(f\"I am {student}\")\n",
        "  print(f\"Are you from {dept} department\")\n",
        "UPES1(\"Touseef\", \"Vikrant\", dept = \"SoE\" )\n",
        "#UPES1(\"Touseef\", \"Vikrant\" )\n",
        "\n",
        "\n",
        "\n",
        "\n",
        "#UPES(\"Socs\" , \"Touseef\")\n",
        "#UPES1( \"ABC\")\n",
        "\n",
        "#UPES1(\"Touseef\" , \"ABC\", \"SoE\")\n",
        "\n",
        "\n",
        "\"\"\"\n",
        "The default argument should be provided after non default arguments\n",
        "\n",
        "\"\"\""
      ],
      "metadata": {
        "colab": {
          "base_uri": "https://localhost:8080/",
          "height": 87
        },
        "id": "M1iTcWqqX02h",
        "outputId": "0a31f29b-08d7-4c74-bb67-b9ab7c53876e"
      },
      "execution_count": null,
      "outputs": [
        {
          "output_type": "stream",
          "name": "stdout",
          "text": [
            "Hi Touseef\n",
            "I am Vikrant\n",
            "Are you from SoE department\n"
          ]
        },
        {
          "output_type": "execute_result",
          "data": {
            "text/plain": [
              "'\\nThe default argument should be provided after non default arguments\\n\\n'"
            ],
            "application/vnd.google.colaboratory.intrinsic+json": {
              "type": "string"
            }
          },
          "metadata": {},
          "execution_count": 23
        }
      ]
    },
    {
      "cell_type": "markdown",
      "source": [
        "**Arbitary/ Variable length**"
      ],
      "metadata": {
        "id": "fYqsXD1JgA7S"
      }
    },
    {
      "cell_type": "code",
      "source": [
        "def add1(*numbers):      #Here you can provide arbitrary argument or variable length arguments\n",
        "  c = 0\n",
        "  for i in numbers:\n",
        "    c = c + i\n",
        "\n",
        "  print(f\"addition is {c}\")\n",
        "add1(23,45,67,34,67)"
      ],
      "metadata": {
        "colab": {
          "base_uri": "https://localhost:8080/"
        },
        "id": "OjscXrpHf_we",
        "outputId": "2c61590a-c953-4dae-cf0d-bd51841e1b41"
      },
      "execution_count": null,
      "outputs": [
        {
          "output_type": "stream",
          "name": "stdout",
          "text": [
            "addition is 236\n"
          ]
        }
      ]
    },
    {
      "cell_type": "code",
      "source": [
        "#  *args.....short form for arbitary positional arguments and **kwargs in python"
      ],
      "metadata": {
        "id": "fL98jp3ef_ze"
      },
      "execution_count": null,
      "outputs": []
    },
    {
      "cell_type": "code",
      "source": [
        "#*args...arbritary positional arguments\n",
        "\n",
        "def add1(*args):\n",
        "  sum1= 0\n",
        "  for i in args:\n",
        "    sum1 = sum1 + i\n",
        "  print(f\"sum is {sum1}\")\n",
        "add1(32,34,56)\n",
        "add1(32,34,54,65,67,123,456)\n",
        "\n",
        "\n"
      ],
      "metadata": {
        "colab": {
          "base_uri": "https://localhost:8080/"
        },
        "id": "cDMwwYNpf_6m",
        "outputId": "c459aba9-ec8b-4fd0-8683-b31128e6dfcc"
      },
      "execution_count": null,
      "outputs": [
        {
          "output_type": "stream",
          "name": "stdout",
          "text": [
            "sum is 122\n",
            "sum is 831\n"
          ]
        }
      ]
    },
    {
      "cell_type": "code",
      "source": [
        "# The passed values stored as tuple as they are mutable and we cannot change them\n",
        "def add2(*numbers):\n",
        "  sum2= 0\n",
        "  print(numbers[0])\n",
        "  #numbers[0] = 12\n",
        "  for i in numbers:\n",
        "    sum2 = sum2 + i\n",
        "  print(f\"sum is {sum2}\")\n",
        "add2(32,34,56)\n",
        "add2(34,34,54,65,67,123,456)\n"
      ],
      "metadata": {
        "colab": {
          "base_uri": "https://localhost:8080/"
        },
        "id": "yabbJK748uiW",
        "outputId": "b72c9b70-7182-4178-8475-ec492760ac7c"
      },
      "execution_count": null,
      "outputs": [
        {
          "output_type": "stream",
          "name": "stdout",
          "text": [
            "32\n",
            "sum is 122\n",
            "34\n",
            "sum is 833\n"
          ]
        }
      ]
    },
    {
      "cell_type": "code",
      "source": [
        "def xyz(*num, name):\n",
        "  sum4 = 0\n",
        "  print(num)\n",
        "  print(name)\n",
        "\n",
        "  for i in num:\n",
        "    sum4 = sum4 + i\n",
        "  print (f\"sum is {sum4}\")\n",
        "\n",
        "\n",
        "xyz(1,3,5,  name= \"Touseef\")"
      ],
      "metadata": {
        "colab": {
          "base_uri": "https://localhost:8080/"
        },
        "id": "10AWjLy38umY",
        "outputId": "f9126d15-853b-4ffb-a5c6-49e8c99fef39"
      },
      "execution_count": null,
      "outputs": [
        {
          "output_type": "stream",
          "name": "stdout",
          "text": [
            "(1, 3, 5)\n",
            "Touseef\n",
            "sum is 9\n"
          ]
        }
      ]
    },
    {
      "cell_type": "code",
      "source": [
        "# **args...arbitary keyword arguments\n",
        "def info_person(**kwargs):\n",
        "  for i, j in kwargs.items():\n",
        "    print(i,j)\n",
        "\n",
        "\n",
        "\n",
        "\n",
        "info_person (name = \"abc\", age = 123, dept = \"socs\", state = \"Dehradun\")\n",
        "info_person (name = \"daksh\", dept = \"Python\")\n"
      ],
      "metadata": {
        "colab": {
          "base_uri": "https://localhost:8080/"
        },
        "id": "4thYoW-W8upw",
        "outputId": "10f91cfa-b3f2-4609-c32e-11ec4527c701"
      },
      "execution_count": null,
      "outputs": [
        {
          "output_type": "stream",
          "name": "stdout",
          "text": [
            "name abc\n",
            "age 123\n",
            "dept socs\n",
            "state Dehradun\n",
            "name daksh\n",
            "dept Python\n"
          ]
        }
      ]
    },
    {
      "cell_type": "code",
      "source": [
        "#Convention of passing the arguments....positional arbitary and keyword arbitary\n",
        "\n",
        "\n",
        "def info_person1( *args, **kwargs,  ):\n",
        "  for i, j in kwargs.items():\n",
        "    print(i,j)\n",
        "  print(args)\n",
        "\n",
        "\n",
        "#info_person1 (name = \"abc\", age = 123, dept = \"socs\" ,1,2)\n",
        "info_person1 (3,4, name = \"abc\", dept = \"SoE\" )"
      ],
      "metadata": {
        "colab": {
          "base_uri": "https://localhost:8080/"
        },
        "id": "XDlaZVTCNztl",
        "outputId": "076b175d-6164-4345-8865-97764acf884d"
      },
      "execution_count": null,
      "outputs": [
        {
          "output_type": "stream",
          "name": "stdout",
          "text": [
            "name abc\n",
            "dept SoE\n",
            "(3, 4)\n"
          ]
        }
      ]
    },
    {
      "cell_type": "code",
      "source": [
        "#paint the wall\n",
        "#1 can = 7 sq.mtr\n",
        "import math\n",
        "def paint_calculation(height, width, cover):\n",
        "  area = height * width\n",
        "  #no_of_cans = area/cover\n",
        "  no_of_cans = math.ceil(area/cover)\n",
        "  print(f\"you will need {no_of_cans} cans to paint\")\n",
        "h = int(input(\"enter the height of the wall\"))\n",
        "w = int(input(\"enter the width of the wall\"))\n",
        "coverage = 7\n",
        "paint_calculation(height = h, width = w, cover = coverage)\n"
      ],
      "metadata": {
        "colab": {
          "base_uri": "https://localhost:8080/"
        },
        "id": "7AWpBX6NE9jd",
        "outputId": "28d6abc1-0f99-4f8c-fa28-9585e04aa4c4"
      },
      "execution_count": null,
      "outputs": [
        {
          "output_type": "stream",
          "name": "stdout",
          "text": [
            "enter the height of the wall6\n",
            "enter the width of the wall5\n",
            "you will need 5 cans to paint\n"
          ]
        }
      ]
    },
    {
      "cell_type": "code",
      "source": [
        "#prime no calculation\n",
        "import math\n",
        "def prime_no(number):\n",
        "  is_prime = True\n",
        "  if number == 1:\n",
        "    is_prime = False\n",
        "  for i in range(2, math.ceil(number/2)+1):\n",
        "  #for i in range(2, number):\n",
        "    if number%i ==0:\n",
        "      is_prime = False\n",
        "  if is_prime == True:\n",
        "    print(\"It is a Prime number\")\n",
        "\n",
        "  else:\n",
        "    print(\"It is not a prime number\")\n",
        "x = int(input(\"enter the number: \"))\n",
        "\n",
        "\n",
        "prime_no(number = x)\n"
      ],
      "metadata": {
        "colab": {
          "base_uri": "https://localhost:8080/"
        },
        "id": "65on7evvIy5a",
        "outputId": "8e4e211f-bc5d-4763-bdce-c65bcc036585"
      },
      "execution_count": null,
      "outputs": [
        {
          "output_type": "stream",
          "name": "stdout",
          "text": [
            "enter the number: 2\n",
            "It is a Prime number\n"
          ]
        }
      ]
    },
    {
      "cell_type": "code",
      "source": [
        "#ceaser cipher\n",
        "\n",
        "\n",
        "for i in range (2, 2):\n",
        "  print(i)"
      ],
      "metadata": {
        "id": "x2gjb4LQIzH4"
      },
      "execution_count": null,
      "outputs": []
    },
    {
      "cell_type": "code",
      "source": [
        "alphabet = ['a','b','c', 'd','e', 'f', 'g', 'h', 'i', 'j', 'k', 'l', 'm', 'n',\n",
        "            'o', 'p', 'q', 'r', 's', 't', 'u', 'v', 'w', 'x', 'y', 'z']\n",
        "\n",
        "\n",
        "def encryption(plain_text, shift_key):\n",
        "  cipher_text = \"\"\n",
        "  for char in plain_text: #hello\n",
        "    position = alphabet.index(char)\n",
        "    new_position = (position + shift_key) % 26\n",
        "    cipher_text = cipher_text + alphabet[new_position]\n",
        "  print(f\" The text after encryption is {cipher_text}\")\n",
        "\n",
        "def decryption(cipher_text, shift_key):\n",
        "  plain_text = \"\"\n",
        "  for char in cipher_text: #hello\n",
        "    position = alphabet.index(char)\n",
        "    new_position = (position - shift_key) % 26\n",
        "    plain_text = plain_text + alphabet[new_position]\n",
        "  print(f\" The text after decryption is {plain_text}\")\n",
        "\n",
        "end = False\n",
        "while not end:\n",
        "  what_to_do = input(\"type 'encrypt' for encyption and 'decrypt' for decryption \\n\")\n",
        "  text = input(\"type your message \\n\")\n",
        "  shift = int(input(\"enter the shift key:\\n\"))\n",
        "  if what_to_do == \"encrypt\":\n",
        "    encryption(plain_text = text, shift_key=shift)\n",
        "  elif what_to_do == \"decrypt\":\n",
        "\n",
        "    decryption(text, shift)\n",
        "  play_again = input(\"Type 'yes' to continue  and 'no' to terminate\")\n",
        "\n",
        "  if play_again == 'no':\n",
        "    end = True\n",
        "    print(\"have a nice day : Bye!\")\n",
        "\n",
        "\n",
        "\n"
      ],
      "metadata": {
        "colab": {
          "base_uri": "https://localhost:8080/"
        },
        "id": "IW9nekUsIzNo",
        "outputId": "df4f027c-9bc6-4962-9e31-d9560482e4e1"
      },
      "execution_count": null,
      "outputs": [
        {
          "output_type": "stream",
          "name": "stdout",
          "text": [
            "type 'encrypt' for encyption and 'decrypt' for decryption \n",
            "encrypt\n",
            "type your message \n",
            "bye\n",
            "enter the shift key:\n",
            "5\n",
            " The text after encryption is gdj\n",
            "Type 'yes' to continue  and 'no' to terminateyes\n",
            "type 'encrypt' for encyption and 'decrypt' for decryption \n",
            "decrypt\n",
            "type your message \n",
            "gdj\n",
            "enter the shift key:\n",
            "5\n",
            " The text after decryption is bye\n",
            "Type 'yes' to continue  and 'no' to terminateno\n",
            "have a nice day : Bye!\n"
          ]
        }
      ]
    }
  ]
}