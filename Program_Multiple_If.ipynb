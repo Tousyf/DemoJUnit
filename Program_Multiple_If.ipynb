{
  "nbformat": 4,
  "nbformat_minor": 0,
  "metadata": {
    "colab": {
      "provenance": [],
      "authorship_tag": "ABX9TyOINg64yGaN6Zp+87mzHgZI",
      "include_colab_link": true
    },
    "kernelspec": {
      "name": "python3",
      "display_name": "Python 3"
    },
    "language_info": {
      "name": "python"
    }
  },
  "cells": [
    {
      "cell_type": "markdown",
      "metadata": {
        "id": "view-in-github",
        "colab_type": "text"
      },
      "source": [
        "<a href=\"https://colab.research.google.com/github/Tousyf/DemoJUnit/blob/master/Program_Multiple_If.ipynb\" target=\"_parent\"><img src=\"https://colab.research.google.com/assets/colab-badge.svg\" alt=\"Open In Colab\"/></a>"
      ]
    },
    {
      "cell_type": "code",
      "execution_count": null,
      "metadata": {
        "colab": {
          "base_uri": "https://localhost:8080/"
        },
        "id": "qTd6yni5_lpO",
        "outputId": "7c7048e0-8b42-44b5-9e01-048fe59ea29f"
      },
      "outputs": [
        {
          "output_type": "stream",
          "name": "stdout",
          "text": [
            "Enter the height=3\n",
            "You are eligible to ride\n",
            "Enter the age19\n",
            "you have to pay 500 rs\n",
            "Do you want to take photu  Y or Ny\n",
            "your bill is 550\n"
          ]
        }
      ],
      "source": [
        "height = int(input(\"Enter the height=\"))\n",
        "bill=0\n",
        "if height >= 3:\n",
        "  print(\"You are eligible to ride\")\n",
        "  age = int(input(\"Enter the age\"))\n",
        "  if age<12:\n",
        "    bill=150\n",
        "    print(\"you have to pay 150rs \")\n",
        "  elif age<=18:\n",
        "    bill = 250\n",
        "    print(\"you have to pay 250rs\")\n",
        "  else:\n",
        "    bill = 500\n",
        "    print(\"you have to pay 500 rs\")\n",
        "  photu = input(\"Do you want to take photu  Y or N\")\n",
        "  if photu == \"Y\" or photu == \"y\":\n",
        "    bill = bill + 50\n",
        "    print(f\"your bill is {bill}\")\n",
        "\n",
        "else:\n",
        "  print(\"You are not eligible\")"
      ]
    },
    {
      "cell_type": "code",
      "source": [
        "#Pizza Order Program\n",
        "size = input(\"what pizza size you want (S/M/L)? \")\n",
        "bill=0\n",
        "if size == \"S\" or size == \"s\":\n",
        "  bill +=100\n",
        "  print(\"Your bill is 100rs\")\n",
        "elif size == \"M\" or size == \"m\":\n",
        "  bill +=200\n",
        "  print(\"Your bill is 200rs\")\n",
        "else:\n",
        "  bill +=300\n",
        "  print(\"Your bill is 300rs\")\n",
        "pepper = input(\"Do you want to add pepper (Y/N)?\")\n",
        "if pepper == \"Y\" or pepper == \"y\":\n",
        "  if size == \"S\" or size == \"s\":\n",
        "    bill +=30\n",
        "  else:\n",
        "    bill +=50\n",
        "extra_cheese = input(\"Do you want extra cheese (y/n)\")\n",
        "if extra_cheese == \"Y\" or extra_cheese ==\"y\":\n",
        "  bill +=20\n",
        "print (f\"your final bill is {bill}\")\n",
        "\n",
        "\n",
        "\n"
      ],
      "metadata": {
        "colab": {
          "base_uri": "https://localhost:8080/"
        },
        "id": "FMaZQeySDsMx",
        "outputId": "58d6ccbb-7094-479f-a9ce-af2a4f33f8c0"
      },
      "execution_count": null,
      "outputs": [
        {
          "output_type": "stream",
          "name": "stdout",
          "text": [
            "what pizza size you want (S/M/L)? l\n",
            "Your bill is 300rs\n",
            "Do you want to add pepper (Y/N)?y\n",
            "Do you want extra cheese (y/n)n\n",
            "your final bill is 350\n"
          ]
        }
      ]
    },
    {
      "cell_type": "markdown",
      "source": [
        "**LISTs in Python**"
      ],
      "metadata": {
        "id": "bAJjsXycZDjp"
      }
    },
    {
      "cell_type": "code",
      "source": [
        "\"\"\"\n",
        "Dynamically sized datatype which can store different data in order\n",
        "\"\"\""
      ],
      "metadata": {
        "id": "R2otvN-PZCq2"
      },
      "execution_count": null,
      "outputs": []
    },
    {
      "cell_type": "code",
      "source": [
        "#Lists are mutable\n",
        "#after intialization list, the values can be changed"
      ],
      "metadata": {
        "id": "oVjanDLdZCuc"
      },
      "execution_count": null,
      "outputs": []
    },
    {
      "cell_type": "code",
      "source": [
        "list = [1,-1, 0, 82, 2,3,4,5,6]\n",
        "list[1:5:3]"
      ],
      "metadata": {
        "colab": {
          "base_uri": "https://localhost:8080/"
        },
        "id": "i4JRucS3ZCxx",
        "outputId": "573219c0-c2e8-40df-a97f-e960ae44f061"
      },
      "execution_count": null,
      "outputs": [
        {
          "output_type": "execute_result",
          "data": {
            "text/plain": [
              "[-1, 2]"
            ]
          },
          "metadata": {},
          "execution_count": 9
        }
      ]
    },
    {
      "cell_type": "code",
      "source": [
        "list.sort()\n",
        "print (list)"
      ],
      "metadata": {
        "colab": {
          "base_uri": "https://localhost:8080/"
        },
        "id": "D_kmQzoTaxcN",
        "outputId": "e340e26c-3250-4031-a4cd-9de357538509"
      },
      "execution_count": null,
      "outputs": [
        {
          "output_type": "stream",
          "name": "stdout",
          "text": [
            "[-1, 0, 1, 2, 3, 4, 5, 6, 82]\n"
          ]
        }
      ]
    },
    {
      "cell_type": "code",
      "source": [
        "list.reverse()\n",
        "print(list)"
      ],
      "metadata": {
        "colab": {
          "base_uri": "https://localhost:8080/"
        },
        "id": "xodvdWy4bDuN",
        "outputId": "c6810dba-3844-40c2-ae38-39dd3ed0f02c"
      },
      "execution_count": null,
      "outputs": [
        {
          "output_type": "stream",
          "name": "stdout",
          "text": [
            "[82, 6, 5, 4, 3, 2, 1, 0, -1]\n"
          ]
        }
      ]
    },
    {
      "cell_type": "code",
      "source": [
        "print(max(list))"
      ],
      "metadata": {
        "colab": {
          "base_uri": "https://localhost:8080/"
        },
        "id": "TTPXJxnIbXwY",
        "outputId": "44893cff-9180-40de-db61-0fd2d8d50bc0"
      },
      "execution_count": null,
      "outputs": [
        {
          "output_type": "stream",
          "name": "stdout",
          "text": [
            "82\n"
          ]
        }
      ]
    },
    {
      "cell_type": "code",
      "source": [
        "#list1 = [1, \"upes\", True]\n",
        "#list1.sort()\n",
        "#print(list1)"
      ],
      "metadata": {
        "id": "uNQCLA66bkcr",
        "colab": {
          "base_uri": "https://localhost:8080/",
          "height": 211
        },
        "outputId": "71dbd021-72c8-4548-d964-61d11e60a0f4"
      },
      "execution_count": null,
      "outputs": [
        {
          "output_type": "error",
          "ename": "TypeError",
          "evalue": "'<' not supported between instances of 'str' and 'int'",
          "traceback": [
            "\u001b[0;31m---------------------------------------------------------------------------\u001b[0m",
            "\u001b[0;31mTypeError\u001b[0m                                 Traceback (most recent call last)",
            "\u001b[0;32m<ipython-input-13-eb2baf719b85>\u001b[0m in \u001b[0;36m<cell line: 2>\u001b[0;34m()\u001b[0m\n\u001b[1;32m      1\u001b[0m \u001b[0mlist1\u001b[0m \u001b[0;34m=\u001b[0m \u001b[0;34m[\u001b[0m\u001b[0;36m1\u001b[0m\u001b[0;34m,\u001b[0m \u001b[0;34m\"upes\"\u001b[0m\u001b[0;34m,\u001b[0m \u001b[0;32mTrue\u001b[0m\u001b[0;34m]\u001b[0m\u001b[0;34m\u001b[0m\u001b[0;34m\u001b[0m\u001b[0m\n\u001b[0;32m----> 2\u001b[0;31m \u001b[0mlist1\u001b[0m\u001b[0;34m.\u001b[0m\u001b[0msort\u001b[0m\u001b[0;34m(\u001b[0m\u001b[0;34m)\u001b[0m\u001b[0;34m\u001b[0m\u001b[0;34m\u001b[0m\u001b[0m\n\u001b[0m\u001b[1;32m      3\u001b[0m \u001b[0mprint\u001b[0m\u001b[0;34m(\u001b[0m\u001b[0mlist1\u001b[0m\u001b[0;34m)\u001b[0m\u001b[0;34m\u001b[0m\u001b[0;34m\u001b[0m\u001b[0m\n",
            "\u001b[0;31mTypeError\u001b[0m: '<' not supported between instances of 'str' and 'int'"
          ]
        }
      ]
    },
    {
      "cell_type": "code",
      "source": [
        "list.extend([23,34,56,65])\n",
        "print(list)"
      ],
      "metadata": {
        "colab": {
          "base_uri": "https://localhost:8080/"
        },
        "id": "6sdWcfG_cAR6",
        "outputId": "311a5c31-ac92-4dbd-9c78-174bb9182799"
      },
      "execution_count": null,
      "outputs": [
        {
          "output_type": "stream",
          "name": "stdout",
          "text": [
            "[82, 23, 334, 556, 778, 1, 0, -1, 34, 56, 65, 23, 34, 56, 65]\n"
          ]
        }
      ]
    },
    {
      "cell_type": "code",
      "source": [
        "list.insert(2,24)\n",
        "print(list)"
      ],
      "metadata": {
        "colab": {
          "base_uri": "https://localhost:8080/"
        },
        "id": "KgsVWRSwcAVL",
        "outputId": "517539e1-88ce-4736-8390-4bdb7e1fc3a6"
      },
      "execution_count": null,
      "outputs": [
        {
          "output_type": "stream",
          "name": "stdout",
          "text": [
            "[82, 23, 24, 334, 556, 778, 1, 0, -1, 34, 56, 65, 23, 34, 56, 65]\n"
          ]
        }
      ]
    },
    {
      "cell_type": "code",
      "source": [
        "list.append(97)\n",
        "list"
      ],
      "metadata": {
        "colab": {
          "base_uri": "https://localhost:8080/"
        },
        "id": "CwiQerLVcAYN",
        "outputId": "9fef669a-3374-47fd-f246-c5315c05d6fb"
      },
      "execution_count": null,
      "outputs": [
        {
          "output_type": "execute_result",
          "data": {
            "text/plain": [
              "[82, 23, 24, 334, 556, 778, 1, 0, -1, 34, 56, 65, 23, 34, 56, 65, 97]"
            ]
          },
          "metadata": {},
          "execution_count": 26
        }
      ]
    },
    {
      "cell_type": "code",
      "source": [
        "list[1]=333\n",
        "list"
      ],
      "metadata": {
        "colab": {
          "base_uri": "https://localhost:8080/"
        },
        "id": "D3k75BNQcvf1",
        "outputId": "cc198e83-70b8-4cb1-bf86-97bf7bb357f4"
      },
      "execution_count": null,
      "outputs": [
        {
          "output_type": "execute_result",
          "data": {
            "text/plain": [
              "[82, 333, 24, 5, 4, 3, 2, 1, 0, -1, 23, 34, 56, 65, 97]"
            ]
          },
          "metadata": {},
          "execution_count": 17
        }
      ]
    },
    {
      "cell_type": "code",
      "source": [
        "list[1:5]=[23,334,556,778]\n",
        "list"
      ],
      "metadata": {
        "colab": {
          "base_uri": "https://localhost:8080/"
        },
        "id": "UjluWFNlc8EJ",
        "outputId": "ec868842-1af1-4c1a-80f6-2ba8344871bc"
      },
      "execution_count": null,
      "outputs": [
        {
          "output_type": "execute_result",
          "data": {
            "text/plain": [
              "[82, 23, 334, 556, 778, 1, 0, -1, 34, 56, 65]"
            ]
          },
          "metadata": {},
          "execution_count": 23
        }
      ]
    },
    {
      "cell_type": "code",
      "source": [
        "#in order to remove you have two methods \"remove \" and \"pop\""
      ],
      "metadata": {
        "id": "Ihe0Gvmpdbx1"
      },
      "execution_count": null,
      "outputs": []
    },
    {
      "cell_type": "code",
      "source": [
        "list.remove(23)\n",
        "list"
      ],
      "metadata": {
        "colab": {
          "base_uri": "https://localhost:8080/"
        },
        "id": "rPUjZbYWdb04",
        "outputId": "3a9e155a-be76-4aa9-f579-39deca1e01cc"
      },
      "execution_count": null,
      "outputs": [
        {
          "output_type": "execute_result",
          "data": {
            "text/plain": [
              "[82, 24, 334, 556, 778, 1, 0, -1, 34, 56, 65, 34, 56, 65, 97]"
            ]
          },
          "metadata": {},
          "execution_count": 28
        }
      ]
    },
    {
      "cell_type": "code",
      "source": [
        "print(list.pop())\n",
        "list"
      ],
      "metadata": {
        "colab": {
          "base_uri": "https://localhost:8080/"
        },
        "id": "RTiKmTDRdb4F",
        "outputId": "b99a4b14-db88-405d-aae9-6d4a6e01336e"
      },
      "execution_count": null,
      "outputs": [
        {
          "output_type": "stream",
          "name": "stdout",
          "text": [
            "97\n"
          ]
        },
        {
          "output_type": "execute_result",
          "data": {
            "text/plain": [
              "[82, 24, 334, 556, 778, 1, 0, -1, 34, 56, 65, 34, 56, 65]"
            ]
          },
          "metadata": {},
          "execution_count": 29
        }
      ]
    },
    {
      "cell_type": "code",
      "source": [
        "#in order to remove specific elemenet provide index\n",
        "print(list.pop(3))\n",
        "\n",
        "\n"
      ],
      "metadata": {
        "colab": {
          "base_uri": "https://localhost:8080/"
        },
        "id": "Irhyrj1WeGWu",
        "outputId": "b997fc98-723a-443f-caf5-fa6da8dd8e8f"
      },
      "execution_count": null,
      "outputs": [
        {
          "output_type": "stream",
          "name": "stdout",
          "text": [
            "778\n"
          ]
        }
      ]
    },
    {
      "cell_type": "code",
      "source": [
        "#  https://docs.python.org/3/tutorial/index.html\n"
      ],
      "metadata": {
        "id": "--26-Y80gikx"
      },
      "execution_count": null,
      "outputs": []
    },
    {
      "cell_type": "markdown",
      "source": [
        "**Random Module** Randomization to keep predicting the value"
      ],
      "metadata": {
        "id": "qMpdbVnthq0C"
      }
    },
    {
      "cell_type": "code",
      "source": [
        "#Mersenne Twister"
      ],
      "metadata": {
        "id": "h5dFKcQGgipO"
      },
      "execution_count": null,
      "outputs": []
    },
    {
      "cell_type": "code",
      "source": [
        "import random\n",
        "a=random.randint(1,9)\n",
        "#b=random.randrange(1,9)#we will get numbers from 1 to 8, 8 will not be included\n",
        "print (a)"
      ],
      "metadata": {
        "colab": {
          "base_uri": "https://localhost:8080/"
        },
        "id": "scim56tvgQEd",
        "outputId": "14341485-652f-484f-f5ac-420d119fa3c3"
      },
      "execution_count": null,
      "outputs": [
        {
          "output_type": "stream",
          "name": "stdout",
          "text": [
            "9\n"
          ]
        }
      ]
    },
    {
      "cell_type": "code",
      "source": [
        "# for floating point number\n",
        "c=random.random() #returns floating point number from 0 to 1.0 excluding 1.0\n",
        "#d=random.uniform(1,3)\n",
        "#print(d)\n",
        "print(c)"
      ],
      "metadata": {
        "colab": {
          "base_uri": "https://localhost:8080/"
        },
        "id": "dY1a8KeQgrz1",
        "outputId": "ea26a9ab-5009-402d-a4f4-49412f3142de"
      },
      "execution_count": null,
      "outputs": [
        {
          "output_type": "stream",
          "name": "stdout",
          "text": [
            "0.4335225512524121\n"
          ]
        }
      ]
    },
    {
      "cell_type": "code",
      "source": [
        "list2 = [96, 98, 234, 1234, 4323, \"Touseef\"]\n",
        "a= random.choice(list2)\n",
        "print(a)"
      ],
      "metadata": {
        "colab": {
          "base_uri": "https://localhost:8080/"
        },
        "id": "mn6zhlStgr34",
        "outputId": "29826d3a-d22d-4ead-8358-b5797a564367"
      },
      "execution_count": null,
      "outputs": [
        {
          "output_type": "stream",
          "name": "stdout",
          "text": [
            "Touseef\n"
          ]
        }
      ]
    },
    {
      "cell_type": "code",
      "source": [
        "random.shuffle(list2)\n",
        "print(list2)"
      ],
      "metadata": {
        "colab": {
          "base_uri": "https://localhost:8080/"
        },
        "id": "dP5f6nWDgQIS",
        "outputId": "0a738d39-26b4-4907-d406-1d3d2313dba5"
      },
      "execution_count": null,
      "outputs": [
        {
          "output_type": "stream",
          "name": "stdout",
          "text": [
            "[96, 'Touseef', 4323, 234, 1234, 98]\n"
          ]
        }
      ]
    },
    {
      "cell_type": "code",
      "source": [
        "#Virtual toss Coin program\n",
        "import random\n",
        "side=random.randint(0,1)\n",
        "if side == 1:\n",
        "  print(\"Heads\")\n",
        "else:\n",
        "  print(\"Tails\")"
      ],
      "metadata": {
        "colab": {
          "base_uri": "https://localhost:8080/"
        },
        "id": "agy95k8IfQJG",
        "outputId": "4ace419d-19f8-48e8-e788-fb57e4c81ed2"
      },
      "execution_count": null,
      "outputs": [
        {
          "output_type": "stream",
          "name": "stdout",
          "text": [
            "Tails\n"
          ]
        }
      ]
    },
    {
      "cell_type": "code",
      "source": [
        "text = \"Welcome,to,Python,Lecture\"\n",
        "text_s =text.split(\",\")\n",
        "print(text_s)"
      ],
      "metadata": {
        "colab": {
          "base_uri": "https://localhost:8080/"
        },
        "id": "dGAuxBqGfQQE",
        "outputId": "9ffb9292-f0ae-4076-94ab-ed4c46e0dd69"
      },
      "execution_count": null,
      "outputs": [
        {
          "output_type": "stream",
          "name": "stdout",
          "text": [
            "['Welcome', 'to', 'Python', 'Lecture']\n"
          ]
        }
      ]
    },
    {
      "cell_type": "code",
      "source": [
        "#pay the bill"
      ],
      "metadata": {
        "id": "HQMUfV45eGb6"
      },
      "execution_count": null,
      "outputs": []
    },
    {
      "cell_type": "code",
      "source": [
        "import random\n",
        "names=input(\"Please enter everyones name seperated by comma\")\n",
        "names_list = names.split(\",\")\n",
        "length = len(names_list)\n",
        "#print(names_list)\n",
        "choice=random.randint(0, length-1)\n",
        "print(f\"{names_list[choice]}  will pay the bill\")"
      ],
      "metadata": {
        "colab": {
          "base_uri": "https://localhost:8080/"
        },
        "id": "61kp-r_6cvrZ",
        "outputId": "9f0f8d25-9158-460f-8678-cb744f4e38fa"
      },
      "execution_count": null,
      "outputs": [
        {
          "output_type": "stream",
          "name": "stdout",
          "text": [
            "Please enter everyones name seperated by commakehav,krishna,aryan,gaurav\n",
            "gaurav  will pay the bill\n"
          ]
        }
      ]
    },
    {
      "cell_type": "markdown",
      "source": [
        "**Index out of Range**\n"
      ],
      "metadata": {
        "id": "FgISFHEQD9y-"
      }
    },
    {
      "cell_type": "code",
      "source": [
        "#calculate length of list"
      ],
      "metadata": {
        "id": "X-upLP_mBobI"
      },
      "execution_count": null,
      "outputs": []
    },
    {
      "cell_type": "markdown",
      "source": [
        "**Nested List**"
      ],
      "metadata": {
        "id": "Rl5RJQjuE_i-"
      }
    },
    {
      "cell_type": "code",
      "source": [
        "Numbers = [1, 2, 3, 4, [23, 34, 45], -23, -45, 457]\n",
        "print(len(Numbers))"
      ],
      "metadata": {
        "colab": {
          "base_uri": "https://localhost:8080/"
        },
        "id": "5AkwzK5rBokY",
        "outputId": "9895f3a0-2a75-46d5-83bd-f25316c16294"
      },
      "execution_count": null,
      "outputs": [
        {
          "output_type": "stream",
          "name": "stdout",
          "text": [
            "8\n"
          ]
        }
      ]
    },
    {
      "cell_type": "code",
      "source": [
        "Numbers[4][2]"
      ],
      "metadata": {
        "colab": {
          "base_uri": "https://localhost:8080/"
        },
        "id": "X0gUeTVWJX9f",
        "outputId": "298a1b1d-f6ce-4e34-e6c5-afbf4bacf417"
      },
      "execution_count": null,
      "outputs": [
        {
          "output_type": "execute_result",
          "data": {
            "text/plain": [
              "45"
            ]
          },
          "metadata": {},
          "execution_count": 71
        }
      ]
    },
    {
      "cell_type": "code",
      "source": [
        "\"\"\"\n",
        "I have 3*3 matrix"
      ],
      "metadata": {
        "id": "HaQoDatMMOKO"
      },
      "execution_count": null,
      "outputs": []
    },
    {
      "cell_type": "code",
      "source": [],
      "metadata": {
        "id": "leBIlVuxMORQ"
      },
      "execution_count": null,
      "outputs": []
    },
    {
      "cell_type": "code",
      "source": [
        "#Creating a 3*3 matrix and hide your at any position user wants\n",
        "\n",
        "\n",
        "Row1= ['😃', '😃', '😃']\n",
        "Row2= ['😃', '😃', '😃']\n",
        "Row3= ['😃', '😃', '😃']\n",
        "print(f\"{Row1}\\n{Row2}\\n{Row3}\")\n",
        "matrix=[Row1, Row2, Row3]\n",
        "\n",
        "\n",
        "position = input(\"Enter the position where you want to hide your money:\")\n",
        "row_number = int(position[0])\n",
        "column_number = int(position[1])\n",
        "row_selected = matrix[row_number-1]\n",
        "row_selected[column_number-1]='X'\n",
        "print(f\"{Row1}\\n{Row2}\\n{Row3}\")\n",
        "\n"
      ],
      "metadata": {
        "colab": {
          "base_uri": "https://localhost:8080/"
        },
        "id": "dZLuA_-EOLd5",
        "outputId": "a7d23470-57a3-47c2-a011-2be69dd16e5a"
      },
      "execution_count": null,
      "outputs": [
        {
          "output_type": "stream",
          "name": "stdout",
          "text": [
            "['😃', '😃', '😃']\n",
            "['😃', '😃', '😃']\n",
            "['😃', '😃', '😃']\n",
            "Enter the position where you want to hide your money:13\n",
            "['😃', '😃', 'X']\n",
            "['😃', '😃', '😃']\n",
            "['😃', '😃', '😃']\n"
          ]
        }
      ]
    }
  ]
}