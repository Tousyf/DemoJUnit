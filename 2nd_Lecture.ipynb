{
  "cells": [
    {
      "cell_type": "markdown",
      "metadata": {
        "id": "view-in-github",
        "colab_type": "text"
      },
      "source": [
        "<a href=\"https://colab.research.google.com/github/Tousyf/DemoJUnit/blob/master/2nd_Lecture.ipynb\" target=\"_parent\"><img src=\"https://colab.research.google.com/assets/colab-badge.svg\" alt=\"Open In Colab\"/></a>"
      ]
    },
    {
      "cell_type": "markdown",
      "metadata": {
        "id": "rru6LAusQxXV"
      },
      "source": [
        "**Numeric DataType**"
      ]
    },
    {
      "cell_type": "code",
      "execution_count": null,
      "metadata": {
        "colab": {
          "base_uri": "https://localhost:8080/"
        },
        "id": "kyhhXrVtQ2iZ",
        "outputId": "37577fb4-3875-4ff4-f8cc-4fbbd8aec435"
      },
      "outputs": [
        {
          "name": "stdout",
          "output_type": "stream",
          "text": [
            "<class 'int'>\n"
          ]
        }
      ],
      "source": [
        "Num=3\n",
        "print(type(Num))"
      ]
    },
    {
      "cell_type": "code",
      "execution_count": null,
      "metadata": {
        "colab": {
          "base_uri": "https://localhost:8080/"
        },
        "id": "LzewxZDbRKQ2",
        "outputId": "9b7ffda4-687e-4741-f877-1eb8065b8674"
      },
      "outputs": [
        {
          "name": "stdout",
          "output_type": "stream",
          "text": [
            "<class 'float'>\n"
          ]
        }
      ],
      "source": [
        "Num=3.14\n",
        "print(type(Num))"
      ]
    },
    {
      "cell_type": "markdown",
      "metadata": {
        "id": "TuDtbde49XgN"
      },
      "source": [
        "**Print Function**"
      ]
    },
    {
      "cell_type": "code",
      "execution_count": null,
      "metadata": {
        "colab": {
          "base_uri": "https://localhost:8080/"
        },
        "id": "pxHRiGGp9WjT",
        "outputId": "973c686e-c458-4f5c-daab-da2837890c72"
      },
      "outputs": [
        {
          "name": "stdout",
          "output_type": "stream",
          "text": [
            "Hello world \n",
            " Hello World \n",
            "  Hello World\n"
          ]
        }
      ],
      "source": [
        "print(\"Hello world \\n Hello World \\n  Hello World\")"
      ]
    },
    {
      "cell_type": "markdown",
      "metadata": {
        "id": "j1sP_A0Z99Xr"
      },
      "source": [
        "**String Concatenation**"
      ]
    },
    {
      "cell_type": "code",
      "execution_count": null,
      "metadata": {
        "colab": {
          "base_uri": "https://localhost:8080/"
        },
        "id": "SksRRSxR97h1",
        "outputId": "9de2f3b8-222f-4069-ab2e-309567600e0a"
      },
      "outputs": [
        {
          "output_type": "stream",
          "name": "stdout",
          "text": [
            "HelloWorld\n"
          ]
        }
      ],
      "source": [
        "print(\"Hello\" + \"World\")"
      ]
    },
    {
      "cell_type": "code",
      "execution_count": null,
      "metadata": {
        "id": "xaonC_8Z9Wm9"
      },
      "outputs": [],
      "source": [
        "#if we want to add some space. There are three ways"
      ]
    },
    {
      "cell_type": "code",
      "execution_count": null,
      "metadata": {
        "colab": {
          "base_uri": "https://localhost:8080/"
        },
        "id": "cABsBEZk9Wut",
        "outputId": "e7b027ee-171b-4f7d-a634-7915425a7059"
      },
      "outputs": [
        {
          "output_type": "stream",
          "name": "stdout",
          "text": [
            "Hello World\n"
          ]
        }
      ],
      "source": [
        "#1\n",
        "print(\"Hello \" + \"World\")"
      ]
    },
    {
      "cell_type": "code",
      "execution_count": null,
      "metadata": {
        "colab": {
          "base_uri": "https://localhost:8080/"
        },
        "id": "itYQvgVFAkr3",
        "outputId": "83b63d08-8400-485e-ccce-1ceeb46ced73"
      },
      "outputs": [
        {
          "output_type": "stream",
          "name": "stdout",
          "text": [
            "Hello World\n"
          ]
        }
      ],
      "source": [
        "#2\n",
        "print(\"Hello\" + \" World\")"
      ]
    },
    {
      "cell_type": "code",
      "execution_count": null,
      "metadata": {
        "colab": {
          "base_uri": "https://localhost:8080/"
        },
        "id": "CUBF3IphAkvV",
        "outputId": "2de4891b-804d-4e4b-d85a-38b24b9705dc"
      },
      "outputs": [
        {
          "output_type": "stream",
          "name": "stdout",
          "text": [
            "Hello World\n"
          ]
        }
      ],
      "source": [
        "#3\n",
        "print(\"Hello\" +\" \"+ \"World\")"
      ]
    },
    {
      "cell_type": "markdown",
      "metadata": {
        "id": "ZrIflm7-Dipe"
      },
      "source": [
        "**bold text**"
      ]
    },
    {
      "cell_type": "code",
      "execution_count": null,
      "metadata": {
        "colab": {
          "base_uri": "https://localhost:8080/"
        },
        "id": "LUqKDsVrBg2e",
        "outputId": "2d013cc2-806d-460f-a17f-3507a17eac6a"
      },
      "outputs": [
        {
          "name": "stdout",
          "output_type": "stream",
          "text": [
            "string manupulation exercise \n",
            " string concatenation is done with '+' sign\n",
            " for example print('hello + Touseef')\n",
            " new lines can be created with a backslash and\n"
          ]
        }
      ],
      "source": [
        "#print(\"string manupulation exercise \\n string concatenation is done with '+' sign\\n for example print('hello + Touseef')\\n new lines can be created with a backslash and\" )"
      ]
    },
    {
      "cell_type": "markdown",
      "metadata": {
        "id": "Xu7W8mz1PpCf"
      },
      "source": [
        "**Input Function in Python**"
      ]
    },
    {
      "cell_type": "code",
      "execution_count": null,
      "metadata": {
        "colab": {
          "base_uri": "https://localhost:8080/",
          "height": 53
        },
        "id": "dj098-nZPu_K",
        "outputId": "e708b018-94b9-4a57-e245-d22b32fb20c6"
      },
      "outputs": [
        {
          "name": "stdout",
          "output_type": "stream",
          "text": [
            "what is your nameUPES\n"
          ]
        },
        {
          "output_type": "execute_result",
          "data": {
            "text/plain": [
              "'UPES'"
            ],
            "application/vnd.google.colaboratory.intrinsic+json": {
              "type": "string"
            }
          },
          "metadata": {},
          "execution_count": 5
        }
      ],
      "source": [
        "#Input function is used to take input function from user\n",
        "input(\"what is your name\")"
      ]
    },
    {
      "cell_type": "code",
      "execution_count": null,
      "metadata": {
        "colab": {
          "base_uri": "https://localhost:8080/"
        },
        "id": "30gj3R3NBg5O",
        "outputId": "c11c94a9-3f2e-473d-b66c-52436175559e"
      },
      "outputs": [
        {
          "output_type": "stream",
          "name": "stdout",
          "text": [
            "what is your nameUPES\n",
            "Hello UPES\n"
          ]
        }
      ],
      "source": [
        "#if you want to use both print and input function\n",
        "print(\"Hello\"+\" \"+ input(\"what is your name\"))"
      ]
    },
    {
      "cell_type": "code",
      "execution_count": null,
      "metadata": {
        "id": "3idK2l-iSPlz"
      },
      "outputs": [],
      "source": [
        "#exercise no.2 print Hey Touseef, How are you?\n",
        "#print(\"Hey\" + \" \" + input(\"what is your name\") + \", \"+ \"How are you?\")"
      ]
    },
    {
      "cell_type": "code",
      "execution_count": null,
      "metadata": {
        "id": "9rXxrJyaSPty",
        "colab": {
          "base_uri": "https://localhost:8080/"
        },
        "outputId": "decffc7e-9bdd-47c1-a909-1f90745a5c3f"
      },
      "outputs": [
        {
          "output_type": "stream",
          "name": "stdout",
          "text": [
            "enter the value of a=4\n",
            "enter the value of b=5\n",
            "a=5\n",
            "b=4\n"
          ]
        }
      ],
      "source": [
        "#Swapping of two numbers\n",
        "a=input(\"enter the value of a=\")\n",
        "b=input(\"enter the value of b=\")\n",
        "temp=a\n",
        "a=b\n",
        "b=temp\n",
        "print(\"a=\" + a)\n",
        "print(\"b=\" + b)"
      ]
    },
    {
      "cell_type": "code",
      "execution_count": null,
      "metadata": {
        "id": "ToRzWs2oSPyC"
      },
      "outputs": [],
      "source": [
        "#print(\"a=\" , a)\n",
        "#print(\"b=\" , b)"
      ]
    },
    {
      "cell_type": "markdown",
      "metadata": {
        "id": "iiExN7d9d_JW"
      },
      "source": [
        "**Type_Casting and Type_Conversion**"
      ]
    },
    {
      "cell_type": "code",
      "execution_count": null,
      "metadata": {
        "colab": {
          "base_uri": "https://localhost:8080/"
        },
        "id": "TqLPEFoxd1ww",
        "outputId": "d421b9c6-920f-4be4-dbb8-ef527bdbcf73"
      },
      "outputs": [
        {
          "name": "stdout",
          "output_type": "stream",
          "text": [
            "13\n"
          ]
        }
      ],
      "source": [
        "#changing one dataType into another\n",
        "print(len(\"Hello Touseef\")) #len function is used to calculate the length of string\n",
        "#print(len(12345))"
      ]
    },
    {
      "cell_type": "code",
      "execution_count": null,
      "metadata": {
        "id": "7SlDR_RTd10X"
      },
      "outputs": [],
      "source": [
        "# how to print the like \"your name is of ----- characters\"\n",
        "#length=len(\"Touseef Iqbal\")\n",
        "#print(\"Your name is of \" +str(length)+ \" Characters\")\n",
        "#print(\"Your name is of \" +length+ \" Characters\")"
      ]
    },
    {
      "cell_type": "code",
      "execution_count": null,
      "metadata": {
        "colab": {
          "base_uri": "https://localhost:8080/"
        },
        "id": "iGazdx_Dd15U",
        "outputId": "f8a989a7-c817-4a27-f992-735d81e037ed"
      },
      "outputs": [
        {
          "name": "stdout",
          "output_type": "stream",
          "text": [
            "<class 'int'>\n",
            "<class 'str'>\n"
          ]
        }
      ],
      "source": [
        "#length =type(length)\n",
        "print(type(length))\n",
        "#new_length = str(length)\n",
        "#print(type(new_length))"
      ]
    },
    {
      "cell_type": "code",
      "execution_count": null,
      "metadata": {
        "colab": {
          "base_uri": "https://localhost:8080/"
        },
        "id": "DFSKy-njd19Q",
        "outputId": "780d6ce8-3ed2-4f63-8efd-757072a669d7"
      },
      "outputs": [
        {
          "name": "stdout",
          "output_type": "stream",
          "text": [
            "20\n"
          ]
        }
      ],
      "source": [
        "print(10+10)"
      ]
    },
    {
      "cell_type": "code",
      "execution_count": null,
      "metadata": {
        "colab": {
          "base_uri": "https://localhost:8080/"
        },
        "id": "BmUHvEQ6lLyk",
        "outputId": "778f6749-140d-47ba-8ee4-f82dbf3b9692"
      },
      "outputs": [
        {
          "name": "stdout",
          "output_type": "stream",
          "text": [
            "1010\n"
          ]
        }
      ],
      "source": [
        "print(\"10\"+\"10\")"
      ]
    },
    {
      "cell_type": "code",
      "execution_count": null,
      "metadata": {
        "colab": {
          "base_uri": "https://localhost:8080/"
        },
        "id": "VxfD5tnKlL19",
        "outputId": "d6321fd4-84c8-4b6a-af3f-91ea67ace6f2"
      },
      "outputs": [
        {
          "name": "stdout",
          "output_type": "stream",
          "text": [
            "20\n"
          ]
        }
      ],
      "source": [
        "print(int(\"10\")+int(\"10\"))"
      ]
    },
    {
      "cell_type": "code",
      "execution_count": null,
      "metadata": {
        "colab": {
          "base_uri": "https://localhost:8080/"
        },
        "id": "mCSxI8EvlL5l",
        "outputId": "bfa72a35-2c45-4da0-85ea-41d7784b0e82"
      },
      "outputs": [
        {
          "output_type": "stream",
          "name": "stdout",
          "text": [
            "10Touseef\n"
          ]
        }
      ],
      "source": [
        "name=\"Touseef\"\n",
        "#name=\"12\"\n",
        "print(str(10) + name)\n",
        "#print(10 + name)"
      ]
    },
    {
      "cell_type": "markdown",
      "metadata": {
        "id": "Kyo10oZqqE-3"
      },
      "source": []
    },
    {
      "cell_type": "markdown",
      "metadata": {
        "id": "HF4lpEYpq1ag"
      },
      "source": [
        "**Exercisse Sum of two Numbers**"
      ]
    },
    {
      "cell_type": "code",
      "execution_count": null,
      "metadata": {
        "colab": {
          "base_uri": "https://localhost:8080/"
        },
        "id": "hOrKJjQblL_3",
        "outputId": "5aa2ee83-2168-4072-ee7f-857e0a51166e"
      },
      "outputs": [
        {
          "output_type": "stream",
          "name": "stdout",
          "text": [
            "enetr number_1=34\n",
            "enetr number_2=54\n",
            "88\n"
          ]
        }
      ],
      "source": [
        "num_1=input(\"enetr number_1=\")\n",
        "num_2=input(\"enetr number_2=\")\n",
        "sum = int(num_1)+int(num_2)\n",
        "#sum = int(num_1)+int(num_2)\n",
        "print(sum)"
      ]
    },
    {
      "cell_type": "markdown",
      "metadata": {
        "id": "aKaCkJH1skZS"
      },
      "source": [
        "**Add two Digit Number **"
      ]
    },
    {
      "cell_type": "code",
      "execution_count": null,
      "metadata": {
        "id": "Fxq-zGgulMCf"
      },
      "outputs": [],
      "source": [
        "#Numbr=input(\"enter two digit number\")\n",
        "#a=Numbr[0]\n",
        "#b=Numbr[1]\n",
        "#sum=int(a)+int(b)\n",
        "#print(sum)"
      ]
    },
    {
      "cell_type": "markdown",
      "metadata": {
        "id": "CAcaxsb05a6g"
      },
      "source": [
        "**Operators in Python**"
      ]
    },
    {
      "cell_type": "markdown",
      "metadata": {
        "id": "q4gzdHbyuIYv"
      },
      "source": [
        "There are different types of operators\n",
        "1. Arithmetic Operator\n",
        "2. Relational Operator\n",
        "3. Logical Operator\n",
        "4. Bitwise Operator\n",
        "5. Identity operator\n",
        "6. membership operator\n",
        "7. Assignment Operators\n"
      ]
    },
    {
      "cell_type": "markdown",
      "metadata": {
        "id": "N7BGabjUvQyH"
      },
      "source": [
        "**Arithmetic Operator**"
      ]
    },
    {
      "cell_type": "markdown",
      "metadata": {
        "id": "JCIS5wL4xw9c"
      },
      "source": []
    },
    {
      "cell_type": "code",
      "execution_count": null,
      "metadata": {
        "colab": {
          "base_uri": "https://localhost:8080/"
        },
        "id": "3Zk5k3WXlKvJ",
        "outputId": "06d7bc66-ee60-4534-f8b4-50cab01d2e0b"
      },
      "outputs": [
        {
          "name": "stdout",
          "output_type": "stream",
          "text": [
            "2.5\n"
          ]
        }
      ],
      "source": [
        "#+ , - , * , / , % , \\\\ , **.\n",
        "#modulus gives remainder\n",
        "#In Python 3, Division will always give you an floating number\n",
        "print(5/2)"
      ]
    },
    {
      "cell_type": "code",
      "execution_count": null,
      "metadata": {
        "colab": {
          "base_uri": "https://localhost:8080/"
        },
        "id": "VWDRfoJulKyf",
        "outputId": "db1980df-0b01-435f-abc8-95229d82fa9a"
      },
      "outputs": [
        {
          "name": "stdout",
          "output_type": "stream",
          "text": [
            "2.0\n"
          ]
        }
      ],
      "source": [
        "print(4/2)"
      ]
    },
    {
      "cell_type": "code",
      "execution_count": null,
      "metadata": {
        "colab": {
          "base_uri": "https://localhost:8080/"
        },
        "id": "evvb2no7lK17",
        "outputId": "36974311-41d5-43a3-c2a9-875f32f51899"
      },
      "outputs": [
        {
          "name": "stdout",
          "output_type": "stream",
          "text": [
            "2\n"
          ]
        }
      ],
      "source": [
        "print(4//2) #floor division"
      ]
    },
    {
      "cell_type": "code",
      "execution_count": null,
      "metadata": {
        "colab": {
          "base_uri": "https://localhost:8080/"
        },
        "id": "0NMYIPzpzNzI",
        "outputId": "6becce32-9de4-4931-fcd1-435c3fe9d2dd"
      },
      "outputs": [
        {
          "name": "stdout",
          "output_type": "stream",
          "text": [
            "8\n"
          ]
        }
      ],
      "source": [
        "print(2**3)"
      ]
    },
    {
      "cell_type": "markdown",
      "metadata": {
        "id": "pJ_24CASzZOM"
      },
      "source": [
        "**Operator Precedence**"
      ]
    },
    {
      "cell_type": "code",
      "execution_count": null,
      "metadata": {
        "colab": {
          "base_uri": "https://localhost:8080/"
        },
        "id": "lMzHt90-lK6n",
        "outputId": "8ef4e094-d0bb-44f4-e7a9-576409c1b2f9"
      },
      "outputs": [
        {
          "name": "stdout",
          "output_type": "stream",
          "text": [
            "16.0\n"
          ]
        }
      ],
      "source": [
        "print(2+3*5-3/3)"
      ]
    },
    {
      "cell_type": "markdown",
      "metadata": {
        "id": "ho2Jmb-Yzt0h"
      },
      "source": [
        "Operator Precence goes like\n",
        "\n",
        "braces()\n",
        "\n",
        "power **\n",
        ",,  * , / , // , %\n",
        ",,  + , _"
      ]
    },
    {
      "cell_type": "code",
      "execution_count": null,
      "metadata": {
        "colab": {
          "base_uri": "https://localhost:8080/"
        },
        "id": "T4xAEftf5aFO",
        "outputId": "368d770c-a147-42b0-c216-e3546b3bbe4f"
      },
      "outputs": [
        {
          "name": "stdout",
          "output_type": "stream",
          "text": [
            "12.0\n"
          ]
        }
      ],
      "source": [
        "print(5+2*3-1+10/5)"
      ]
    },
    {
      "cell_type": "code",
      "execution_count": null,
      "metadata": {
        "id": "ceN_IuCrLZsp"
      },
      "outputs": [],
      "source": []
    },
    {
      "cell_type": "markdown",
      "metadata": {
        "id": "F-gjgQ8yLDeQ"
      },
      "source": [
        "**Associativity in operators**"
      ]
    },
    {
      "cell_type": "code",
      "execution_count": null,
      "metadata": {
        "id": "L5OL8EroLAIr"
      },
      "outputs": [],
      "source": [
        "#two operators of same precedence will be solved with associativity\n"
      ]
    },
    {
      "cell_type": "code",
      "execution_count": null,
      "metadata": {
        "id": "SnXyDNhHLbom"
      },
      "outputs": [],
      "source": [
        "\"\"\"\n",
        "**             right to left\n",
        "* / // %       Left to Right\n",
        "+ -            Right to Left\n",
        "\n",
        "\n",
        "5+2*3-1+10/5........Answer Should be 11\n",
        "\n",
        "\n",
        "\n",
        "\"\"\""
      ]
    },
    {
      "cell_type": "code",
      "execution_count": null,
      "metadata": {
        "id": "8sVLDbhpM0Ca"
      },
      "outputs": [],
      "source": []
    },
    {
      "cell_type": "markdown",
      "metadata": {
        "id": "l9l_2jOgM0ak"
      },
      "source": [
        "**Calculate BMI**"
      ]
    },
    {
      "cell_type": "code",
      "execution_count": null,
      "metadata": {
        "colab": {
          "base_uri": "https://localhost:8080/"
        },
        "id": "LB0slnTsM4-E",
        "outputId": "29463b8b-804e-4eed-89ca-79567af18a8e"
      },
      "outputs": [
        {
          "name": "stdout",
          "output_type": "stream",
          "text": [
            "enter your weight in Kgs=96\n",
            "enter your Height in metres=1.5\n",
            "42.666666666666664\n"
          ]
        }
      ],
      "source": [
        "x=int(input(\"enter your weight in Kgs=\"))\n",
        "y=float(input(\"enter your Height in metres=\"))\n",
        "BMI= x/(y*y)\n",
        "#BMI = int(x)//int((y)* int(y))\n",
        "print(BMI)"
      ]
    },
    {
      "cell_type": "markdown",
      "metadata": {
        "id": "_8wCxRmnP5G-"
      },
      "source": [
        "**Assignment Operators**"
      ]
    },
    {
      "cell_type": "code",
      "execution_count": null,
      "metadata": {
        "colab": {
          "base_uri": "https://localhost:8080/"
        },
        "id": "jbx3iG54P28S",
        "outputId": "809f9252-d2a7-4b76-cca9-97e3ae46bb2b"
      },
      "outputs": [
        {
          "data": {
            "text/plain": [
              "8"
            ]
          },
          "execution_count": 10,
          "metadata": {},
          "output_type": "execute_result"
        }
      ],
      "source": [
        "\"\"\"\n",
        "=\n",
        "+=\n",
        "-+\n",
        "/=\n",
        "//=\n",
        "5=\n",
        "\n",
        "\n",
        "\"\"\"\n",
        "\n",
        "a=5\n",
        "#a=a+3\n",
        "a+=3\n",
        "a"
      ]
    },
    {
      "cell_type": "code",
      "execution_count": null,
      "metadata": {
        "colab": {
          "base_uri": "https://localhost:8080/"
        },
        "id": "Wuk76GnlRju8",
        "outputId": "e785a570-15d2-490d-9d41-34ecb52871c5"
      },
      "outputs": [
        {
          "name": "stdout",
          "output_type": "stream",
          "text": [
            "4 5 6\n"
          ]
        }
      ],
      "source": [
        "a,b,c=4,5,6\n",
        "print(a,b,c)"
      ]
    },
    {
      "cell_type": "code",
      "execution_count": null,
      "metadata": {
        "id": "gq5SuuZCi6Xr"
      },
      "outputs": [],
      "source": [
        "#ab,bc=4,3\n",
        "#ca=ab+bc\n",
        "#ab+=2\n",
        "#ca//=ab\n",
        "#print(ca)"
      ]
    },
    {
      "cell_type": "markdown",
      "metadata": {
        "id": "WEKvwbMXhSEZ"
      },
      "source": [
        "**Comparision Operator**"
      ]
    },
    {
      "cell_type": "code",
      "execution_count": null,
      "metadata": {
        "id": "qV4gZTrbRj2t"
      },
      "outputs": [],
      "source": [
        "\"\"\"\n",
        ">\n",
        "<\n",
        ">=\n",
        "<=\n",
        "==\n",
        "!=\n",
        "\n",
        "These operators are used to check conditions\n",
        "\n",
        "\n",
        "\n",
        "\"\"\""
      ]
    },
    {
      "cell_type": "code",
      "execution_count": null,
      "metadata": {
        "colab": {
          "base_uri": "https://localhost:8080/"
        },
        "id": "ySpmpbIdP3Ge",
        "outputId": "d1917739-0e7d-468c-d5a1-ca56ea946642"
      },
      "outputs": [
        {
          "name": "stdout",
          "output_type": "stream",
          "text": [
            "False\n",
            "False\n",
            "True\n"
          ]
        }
      ],
      "source": [
        "a=5\n",
        "print(a<5)\n",
        "print(a>5)\n",
        "print(a==5)"
      ]
    },
    {
      "cell_type": "code",
      "execution_count": null,
      "metadata": {
        "id": "KSHR6yB9P3LW"
      },
      "outputs": [],
      "source": []
    }
  ],
  "metadata": {
    "colab": {
      "provenance": [],
      "include_colab_link": true
    },
    "kernelspec": {
      "display_name": "Python 3",
      "name": "python3"
    },
    "language_info": {
      "name": "python"
    }
  },
  "nbformat": 4,
  "nbformat_minor": 0
}