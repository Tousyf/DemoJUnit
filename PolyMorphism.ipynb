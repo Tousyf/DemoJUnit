{
  "nbformat": 4,
  "nbformat_minor": 0,
  "metadata": {
    "colab": {
      "provenance": [],
      "authorship_tag": "ABX9TyOTCWORSQjyIYxh1adela1K",
      "include_colab_link": true
    },
    "kernelspec": {
      "name": "python3",
      "display_name": "Python 3"
    },
    "language_info": {
      "name": "python"
    }
  },
  "cells": [
    {
      "cell_type": "markdown",
      "metadata": {
        "id": "view-in-github",
        "colab_type": "text"
      },
      "source": [
        "<a href=\"https://colab.research.google.com/github/Tousyf/DemoJUnit/blob/master/PolyMorphism.ipynb\" target=\"_parent\"><img src=\"https://colab.research.google.com/assets/colab-badge.svg\" alt=\"Open In Colab\"/></a>"
      ]
    },
    {
      "cell_type": "code",
      "execution_count": null,
      "metadata": {
        "id": "TXTT5JL4OUQ5"
      },
      "outputs": [],
      "source": [
        "#PloyMorphism"
      ]
    },
    {
      "cell_type": "code",
      "source": [
        "print(1+3)\n",
        "print(type(1))"
      ],
      "metadata": {
        "colab": {
          "base_uri": "https://localhost:8080/"
        },
        "id": "gMZYVKuKS_56",
        "outputId": "da86d4ff-6ff9-40db-e56c-1982a1fc15ce"
      },
      "execution_count": null,
      "outputs": [
        {
          "output_type": "stream",
          "name": "stdout",
          "text": [
            "4\n",
            "<class 'int'>\n"
          ]
        }
      ]
    },
    {
      "cell_type": "code",
      "source": [
        "print(\"apna\" + \"college\")\n",
        "print(type(\"apna\"))"
      ],
      "metadata": {
        "colab": {
          "base_uri": "https://localhost:8080/"
        },
        "id": "BiiOsRL0S_8Y",
        "outputId": "0805385b-c875-4a8e-c887-e4a27ba81bcb"
      },
      "execution_count": null,
      "outputs": [
        {
          "output_type": "stream",
          "name": "stdout",
          "text": [
            "apnacollege\n",
            "<class 'str'>\n"
          ]
        }
      ]
    },
    {
      "cell_type": "code",
      "source": [
        "print([1,2,3] + [4,5,6])\n",
        "print(type([1,2,3]))"
      ],
      "metadata": {
        "colab": {
          "base_uri": "https://localhost:8080/"
        },
        "id": "MIgbSJjiUxYk",
        "outputId": "ccee11ce-f061-4826-947c-c867fa0f0fff"
      },
      "execution_count": null,
      "outputs": [
        {
          "output_type": "stream",
          "name": "stdout",
          "text": [
            "[1, 2, 3, 4, 5, 6]\n",
            "<class 'list'>\n"
          ]
        }
      ]
    },
    {
      "cell_type": "code",
      "source": [
        "#Complex Numbers  Dunder Functions"
      ],
      "metadata": {
        "id": "n7Ic98hWVI6A"
      },
      "execution_count": null,
      "outputs": []
    },
    {
      "cell_type": "code",
      "source": [
        "class complex:\n",
        "  def __init__(self, real, imag):\n",
        "    self.real = real\n",
        "    self.imag = imag\n",
        "  def show(self):\n",
        "    print(self.real, \"i +\", self.imag, \"j\")\n",
        "\n",
        "  def add(num1, num2):\n",
        "    n_real = num1.real + num2.real\n",
        "    n_imag = num1.imag + num2.imag\n",
        "    return complex(n_real + n_imag)\n",
        "\n",
        "num1 = complex(1,3)\n",
        "num2 = complex(4,5)\n",
        "num1.show()\n",
        "num2.show()"
      ],
      "metadata": {
        "colab": {
          "base_uri": "https://localhost:8080/"
        },
        "id": "WHDT3v5ugY1D",
        "outputId": "9bf7574e-c4fc-4527-d87f-5eb741ef09ef"
      },
      "execution_count": null,
      "outputs": [
        {
          "output_type": "stream",
          "name": "stdout",
          "text": [
            "1 i + 3 j\n",
            "4 i + 5 j\n"
          ]
        }
      ]
    },
    {
      "cell_type": "code",
      "source": [
        "print(num1 + num2)"
      ],
      "metadata": {
        "id": "SkpkighOgY3v",
        "colab": {
          "base_uri": "https://localhost:8080/",
          "height": 141
        },
        "outputId": "495d25d4-2608-4cd7-dfb5-5324f71ba5a5"
      },
      "execution_count": null,
      "outputs": [
        {
          "output_type": "error",
          "ename": "TypeError",
          "evalue": "unsupported operand type(s) for +: 'complex' and 'complex'",
          "traceback": [
            "\u001b[0;31m---------------------------------------------------------------------------\u001b[0m",
            "\u001b[0;31mTypeError\u001b[0m                                 Traceback (most recent call last)",
            "\u001b[0;32m<ipython-input-2-3fdb17c6ae68>\u001b[0m in \u001b[0;36m<cell line: 1>\u001b[0;34m()\u001b[0m\n\u001b[0;32m----> 1\u001b[0;31m \u001b[0mprint\u001b[0m\u001b[0;34m(\u001b[0m\u001b[0mnum1\u001b[0m \u001b[0;34m+\u001b[0m \u001b[0mnum2\u001b[0m\u001b[0;34m)\u001b[0m\u001b[0;34m\u001b[0m\u001b[0;34m\u001b[0m\u001b[0m\n\u001b[0m",
            "\u001b[0;31mTypeError\u001b[0m: unsupported operand type(s) for +: 'complex' and 'complex'"
          ]
        }
      ]
    },
    {
      "cell_type": "code",
      "source": [
        "class complex:\n",
        "  def __init__(self, real, imag):\n",
        "    self.real = real\n",
        "    self.imag = imag\n",
        "  def show(self):\n",
        "    print(self.real, \"i +\", self.imag, \"j\")\n",
        "    #print(f\" {self.real} + {self.imag}\")\n",
        "\n",
        "  def __add__(num1, num2):\n",
        "    n_real = num1.real + num2.real\n",
        "    n_imag = num1.imag + num2.imag\n",
        "    return complex(n_real , n_imag)\n",
        "\n",
        "num1 = complex(1,3)\n",
        "num2 = complex(4,5)\n",
        "num1.show()\n",
        "num2.show()"
      ],
      "metadata": {
        "colab": {
          "base_uri": "https://localhost:8080/"
        },
        "id": "RMNlK0MZhllK",
        "outputId": "8b7a186e-cf66-4a52-eee9-0a67cfc94370"
      },
      "execution_count": null,
      "outputs": [
        {
          "output_type": "stream",
          "name": "stdout",
          "text": [
            "1 i + 3 j\n",
            "4 i + 5 j\n"
          ]
        }
      ]
    },
    {
      "cell_type": "code",
      "source": [
        "\n",
        "num3 = num1 + num2\n",
        "num3.show()"
      ],
      "metadata": {
        "colab": {
          "base_uri": "https://localhost:8080/"
        },
        "id": "N1943zNZh7G-",
        "outputId": "3f42dafd-e247-4a41-84ad-bfe77bad4b14"
      },
      "execution_count": null,
      "outputs": [
        {
          "output_type": "stream",
          "name": "stdout",
          "text": [
            "5 i + 8 j\n"
          ]
        }
      ]
    },
    {
      "cell_type": "code",
      "source": [
        "class complex:\n",
        "  def __init__(self, r, i):\n",
        "    self.real = r\n",
        "    self.imag = i\n",
        "c1 = complex(1,2)\n",
        "c2 = complex(4,5)\n",
        "print(c1+c2)"
      ],
      "metadata": {
        "id": "dxwC2xjmiCUm"
      },
      "execution_count": null,
      "outputs": []
    },
    {
      "cell_type": "code",
      "source": [],
      "metadata": {
        "id": "KrO6QUVrC7A3"
      },
      "execution_count": null,
      "outputs": []
    }
  ]
}