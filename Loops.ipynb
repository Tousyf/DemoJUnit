{
  "nbformat": 4,
  "nbformat_minor": 0,
  "metadata": {
    "colab": {
      "provenance": [],
      "authorship_tag": "ABX9TyOE5pXTmdmVDZdHAwyl7Th1",
      "include_colab_link": true
    },
    "kernelspec": {
      "name": "python3",
      "display_name": "Python 3"
    },
    "language_info": {
      "name": "python"
    }
  },
  "cells": [
    {
      "cell_type": "markdown",
      "metadata": {
        "id": "view-in-github",
        "colab_type": "text"
      },
      "source": [
        "<a href=\"https://colab.research.google.com/github/Tousyf/DemoJUnit/blob/master/Loops.ipynb\" target=\"_parent\"><img src=\"https://colab.research.google.com/assets/colab-badge.svg\" alt=\"Open In Colab\"/></a>"
      ]
    },
    {
      "cell_type": "markdown",
      "source": [
        "**Loops in Python**\n",
        "If want to repeat the functionn again and again, we use loops"
      ],
      "metadata": {
        "id": "hb8Qe5GM8wci"
      }
    },
    {
      "cell_type": "code",
      "source": [
        "\"\"\"\n",
        "for loop is and iterator\n",
        "syntax\n",
        "\n",
        "for var_name in sequence:\n",
        "  statement1\n",
        "  statement2\n",
        "\n",
        "\n",
        "  FlowChart\n",
        "\n",
        "  for each item in sequence\n",
        "           |\n",
        "           |\n",
        " | last item is reached...........True...exit\n",
        " |         |\n",
        " |         |\n",
        "--- -----False (Statements)\n",
        "\n",
        "\n",
        "\n",
        "         \"\"\"\n"
      ],
      "metadata": {
        "colab": {
          "base_uri": "https://localhost:8080/",
          "height": 145
        },
        "id": "xLznIwlm9gu_",
        "outputId": "370e07b6-d65a-4911-9d5c-acebd492aaee"
      },
      "execution_count": null,
      "outputs": [
        {
          "output_type": "error",
          "ename": "SyntaxError",
          "evalue": "incomplete input (<ipython-input-3-13014acae260>, line 1)",
          "traceback": [
            "\u001b[0;36m  File \u001b[0;32m\"<ipython-input-3-13014acae260>\"\u001b[0;36m, line \u001b[0;32m1\u001b[0m\n\u001b[0;31m    \"\"\"\u001b[0m\n\u001b[0m    ^\u001b[0m\n\u001b[0;31mSyntaxError\u001b[0m\u001b[0;31m:\u001b[0m incomplete input\n"
          ]
        }
      ]
    },
    {
      "cell_type": "code",
      "source": [
        "name = \"Upes\"\n",
        "for x in name:\n",
        "  print(x)"
      ],
      "metadata": {
        "colab": {
          "base_uri": "https://localhost:8080/"
        },
        "id": "zFMfe1-p9g-d",
        "outputId": "47f32c40-79ec-4769-df50-292d5fb84e5c"
      },
      "execution_count": null,
      "outputs": [
        {
          "output_type": "stream",
          "name": "stdout",
          "text": [
            "U\n",
            "p\n",
            "e\n",
            "s\n"
          ]
        }
      ]
    },
    {
      "cell_type": "code",
      "source": [
        "name = \"UpesU\"\n",
        "for x in name:\n",
        "  print(x)\n",
        "  if x == \"U\":\n",
        "    print(\"Hey its me\")\n"
      ],
      "metadata": {
        "colab": {
          "base_uri": "https://localhost:8080/"
        },
        "id": "f4qc1w8o9hBm",
        "outputId": "4295f891-24f4-46df-827b-ed6d846ca4ec"
      },
      "execution_count": null,
      "outputs": [
        {
          "output_type": "stream",
          "name": "stdout",
          "text": [
            "U\n",
            "Hey its me\n",
            "p\n",
            "e\n",
            "s\n",
            "U\n",
            "Hey its me\n"
          ]
        }
      ]
    },
    {
      "cell_type": "code",
      "source": [
        "s = {1,2,3,4,5}\n",
        "v = {6,7,8,3}\n",
        "v.symmetric_difference(s)"
      ],
      "metadata": {
        "colab": {
          "base_uri": "https://localhost:8080/"
        },
        "id": "aBa9Se5ltTkq",
        "outputId": "0b3c476b-8cac-4500-9ae8-df1bd2450a44"
      },
      "execution_count": null,
      "outputs": [
        {
          "output_type": "execute_result",
          "data": {
            "text/plain": [
              "{1, 2, 4, 5, 6, 7, 8}"
            ]
          },
          "metadata": {},
          "execution_count": 3
        }
      ]
    },
    {
      "cell_type": "code",
      "source": [],
      "metadata": {
        "id": "jI61V7UvtToh"
      },
      "execution_count": null,
      "outputs": []
    },
    {
      "cell_type": "code",
      "source": [],
      "metadata": {
        "id": "kx1kkgkS9hEr"
      },
      "execution_count": null,
      "outputs": []
    },
    {
      "cell_type": "code",
      "execution_count": null,
      "metadata": {
        "colab": {
          "base_uri": "https://localhost:8080/"
        },
        "id": "Vwbu9wzC8izx",
        "outputId": "0c7ecfa5-6b7e-449d-fba9-50e89a82b409"
      },
      "outputs": [
        {
          "output_type": "stream",
          "name": "stdout",
          "text": [
            "Python\n"
          ]
        }
      ],
      "source": [
        "List = [\"Python\", \"Upes\", \"Socs\"]\n",
        "for x in List:\n",
        "  if x == \"Upes\":\n",
        "    break\n",
        "\n",
        "  print(x)\n"
      ]
    },
    {
      "cell_type": "code",
      "source": [
        "#square of each item in list\n",
        "\n",
        "List1= [1,2,4,5,-5]\n",
        "for x in List1:\n",
        "  square = x * x\n",
        "  print(square)\n",
        "  #print(x*x)"
      ],
      "metadata": {
        "colab": {
          "base_uri": "https://localhost:8080/"
        },
        "id": "JMrmN6oL8pj_",
        "outputId": "c345e748-3555-48b8-fdea-6a499e9adbcc"
      },
      "execution_count": null,
      "outputs": [
        {
          "output_type": "stream",
          "name": "stdout",
          "text": [
            "1\n",
            "4\n",
            "16\n",
            "25\n",
            "25\n"
          ]
        }
      ]
    },
    {
      "cell_type": "code",
      "source": [
        "# Now if we want to print the result as a list\n"
      ],
      "metadata": {
        "id": "bQPyWOQV8rE9"
      },
      "execution_count": null,
      "outputs": []
    },
    {
      "cell_type": "code",
      "source": [
        "List2= [1,2,4,5,-5]\n",
        "List3= []\n",
        "for x in List2:\n",
        "  square = x * x\n",
        "  List3.append(square)\n",
        "  print(List3)\n",
        "  #print(x*x)"
      ],
      "metadata": {
        "colab": {
          "base_uri": "https://localhost:8080/"
        },
        "id": "zUKXTdsm8smR",
        "outputId": "353152fe-9a97-45d8-8992-8502cef7ce31"
      },
      "execution_count": null,
      "outputs": [
        {
          "output_type": "stream",
          "name": "stdout",
          "text": [
            "[1]\n",
            "[1, 4]\n",
            "[1, 4, 16]\n",
            "[1, 4, 16, 25]\n",
            "[1, 4, 16, 25, 25]\n"
          ]
        }
      ]
    },
    {
      "cell_type": "markdown",
      "source": [
        "**For Else in python**"
      ],
      "metadata": {
        "id": "Mi8jhkNZMue6"
      }
    },
    {
      "cell_type": "code",
      "source": [
        "a=3\n",
        "b=2\n",
        "if a == b:\n",
        "  print(\"a and b are same\")\n",
        "else:\n",
        "  print(\"they are Different\")"
      ],
      "metadata": {
        "colab": {
          "base_uri": "https://localhost:8080/"
        },
        "id": "Y5v88e4pMtyW",
        "outputId": "c7ddb642-e2d1-41b5-fa48-06f00f85b6e5"
      },
      "execution_count": null,
      "outputs": [
        {
          "output_type": "stream",
          "name": "stdout",
          "text": [
            "they are Different\n"
          ]
        }
      ]
    },
    {
      "cell_type": "code",
      "source": [
        "\"\"\"\n",
        "for var_name in sequence:\n",
        "  print(\"I am getting executed\")\n",
        "else:\n",
        "  print(\"I got executed after for loop\")\n",
        "\n",
        "  \"\"\"\n",
        "\n",
        "  # Else block will get executed when for loop has been executed successfully"
      ],
      "metadata": {
        "id": "bfjhZmmaNNJ_"
      },
      "execution_count": null,
      "outputs": []
    },
    {
      "cell_type": "code",
      "source": [
        "Numbers = [ 12, 23, 32, 43, 21, 11]\n",
        "for i in Numbers:\n",
        "  print(i)\n",
        "else:\n",
        "  print(\"for loop has been executed succesfully\")"
      ],
      "metadata": {
        "colab": {
          "base_uri": "https://localhost:8080/"
        },
        "id": "Tgb2_fLlONGx",
        "outputId": "959270e5-4853-414e-f85b-837aeb15cc9c"
      },
      "execution_count": null,
      "outputs": [
        {
          "output_type": "stream",
          "name": "stdout",
          "text": [
            "12\n",
            "23\n",
            "32\n",
            "43\n",
            "21\n",
            "11\n",
            "for loop has been executed succesfully\n"
          ]
        }
      ]
    },
    {
      "cell_type": "code",
      "source": [
        "Numbers = [ 12, 23, 32, 43, 21, 11]\n",
        "for i in Numbers:\n",
        "  print(i)\n",
        "  if i==43:\n",
        "    break\n",
        "else:\n",
        "  print(\"for loop has been executed succesfully\")\n",
        "\n",
        "  #we can else is the symbol of fully execution of for loop"
      ],
      "metadata": {
        "colab": {
          "base_uri": "https://localhost:8080/"
        },
        "id": "Cz-x1AxUONKX",
        "outputId": "3333ceeb-fb05-447e-f8d2-c794b261bfd4"
      },
      "execution_count": null,
      "outputs": [
        {
          "output_type": "stream",
          "name": "stdout",
          "text": [
            "12\n",
            "23\n",
            "32\n",
            "43\n"
          ]
        }
      ]
    },
    {
      "cell_type": "code",
      "source": [
        "#WAP to calculate average height from a list of heights\n",
        "#do not use sum or len function\n",
        "#take input from the user\n",
        "height = input(\"Enter the height seperated by comma\")\n",
        "height_list = height.split(\",\")\n",
        "count = 0\n",
        "for x in height_list:\n",
        "  count = count + 1\n",
        "print(count)\n",
        "for i in range(count):\n",
        "  height_list[i] = int(height_list[i])\n",
        "print(height_list)\n",
        "total = 0\n",
        "for i in height_list:\n",
        "  total = total + i\n",
        "print(total)\n",
        "avg = total/count\n",
        "print(round(avg))\n",
        "\n"
      ],
      "metadata": {
        "colab": {
          "base_uri": "https://localhost:8080/"
        },
        "id": "sm8oaoOZONOG",
        "outputId": "5246c8bb-7dbf-4e1d-8995-4a90e25dbf5d"
      },
      "execution_count": null,
      "outputs": [
        {
          "output_type": "stream",
          "name": "stdout",
          "text": [
            "Enter the height seperated by comma123,345,567,789\n",
            "4\n",
            "[123, 345, 567, 789]\n",
            "1824\n",
            "456\n"
          ]
        }
      ]
    },
    {
      "cell_type": "code",
      "source": [
        "#WAP to find the maximum number in the lsit of numbers\n",
        "#use split and range"
      ],
      "metadata": {
        "id": "lP1PHGKo_CcH"
      },
      "execution_count": null,
      "outputs": []
    },
    {
      "cell_type": "code",
      "source": [
        "numbers = input(\"Enter the numbers seperated by space\")\n",
        "list1 = numbers.split(\" \")\n",
        "print(list1)\n",
        "#for x in list1:\n",
        "count = 0\n",
        "for i in list1:\n",
        "  count +=1\n",
        "print(count)\n",
        "for i in range( count):\n",
        "  list1[i] = int(list1[i])\n",
        "print(list1)\n",
        "maximum = list1[0]\n",
        "for i in list1:\n",
        "  if i > maximum:\n",
        "    maximum = i\n",
        "\n",
        "print(f\"the maximum number is {maximum}\")\n",
        "\n"
      ],
      "metadata": {
        "colab": {
          "base_uri": "https://localhost:8080/"
        },
        "id": "qvokKsjI_CgN",
        "outputId": "f51f099e-3836-4b9d-eb36-6b3ea0d227ba"
      },
      "execution_count": null,
      "outputs": [
        {
          "output_type": "stream",
          "name": "stdout",
          "text": [
            "Enter the numbers seperated by space123 345 567 890\n",
            "['123', '345', '567', '890']\n",
            "4\n",
            "[123, 345, 567, 890]\n",
            "the maximum number is 890\n"
          ]
        }
      ]
    },
    {
      "cell_type": "markdown",
      "source": [
        "**Range Function**"
      ],
      "metadata": {
        "id": "GjTFKkwlZc_I"
      }
    },
    {
      "cell_type": "code",
      "source": [
        "#range (start, stop, stepsize)...stop is optional...by default it will start from zero,, stop is compulsory,,, stepsize is optional, by default it is 1"
      ],
      "metadata": {
        "id": "8_NYEA7D_ClY"
      },
      "execution_count": null,
      "outputs": []
    },
    {
      "cell_type": "code",
      "source": [
        "a = range (2,5)\n",
        "print(a[2])"
      ],
      "metadata": {
        "colab": {
          "base_uri": "https://localhost:8080/"
        },
        "id": "kKi6zq-VbCBd",
        "outputId": "2b4a11d4-7051-4f67-a213-42e138ca7d58"
      },
      "execution_count": null,
      "outputs": [
        {
          "output_type": "stream",
          "name": "stdout",
          "text": [
            "4\n"
          ]
        }
      ]
    },
    {
      "cell_type": "code",
      "source": [
        "b = range (2,15, 2)\n",
        "for i in b:\n",
        "  print(i)\n",
        "#print(b)"
      ],
      "metadata": {
        "colab": {
          "base_uri": "https://localhost:8080/"
        },
        "id": "mIRuVvx4bCEm",
        "outputId": "b60953b7-171c-4497-e88e-6cce43fe0676"
      },
      "execution_count": null,
      "outputs": [
        {
          "output_type": "stream",
          "name": "stdout",
          "text": [
            "2\n",
            "4\n",
            "6\n",
            "8\n",
            "10\n",
            "12\n",
            "14\n"
          ]
        }
      ]
    },
    {
      "cell_type": "code",
      "source": [
        "c = range (2,15, -3)\n",
        "for i in c:\n",
        "  print(i)\n",
        "#print(b)"
      ],
      "metadata": {
        "id": "yQLRFRakbCIb"
      },
      "execution_count": null,
      "outputs": []
    },
    {
      "cell_type": "code",
      "source": [
        "#for i in range(i,j,k):\n",
        " # i,i+k,  i+2k, i+3k,\n"
      ],
      "metadata": {
        "id": "q3ja0yCKbCLF"
      },
      "execution_count": null,
      "outputs": []
    },
    {
      "cell_type": "code",
      "source": [
        "#for i in range (2,16,0):\n",
        " # print(i)"
      ],
      "metadata": {
        "id": "tVJODHhwdcvQ"
      },
      "execution_count": null,
      "outputs": []
    },
    {
      "cell_type": "code",
      "source": [
        "#all three arguments must be ab integer"
      ],
      "metadata": {
        "id": "lt7cqSWWdxsM"
      },
      "execution_count": null,
      "outputs": []
    },
    {
      "cell_type": "code",
      "source": [
        "for i in range(2, 5):\n",
        "  print(i)\n"
      ],
      "metadata": {
        "colab": {
          "base_uri": "https://localhost:8080/"
        },
        "id": "b-hO3VoOaMk5",
        "outputId": "aff63011-61d2-4739-f44b-9fd9b3b0de2c"
      },
      "execution_count": null,
      "outputs": [
        {
          "output_type": "stream",
          "name": "stdout",
          "text": [
            "2\n",
            "3\n",
            "4\n"
          ]
        }
      ]
    },
    {
      "cell_type": "code",
      "source": [
        "for i in range(2, 5, 2):\n",
        "  print(i)\n"
      ],
      "metadata": {
        "colab": {
          "base_uri": "https://localhost:8080/"
        },
        "id": "1gGt5y6AaU6F",
        "outputId": "e0b0ed43-705c-414d-b4cd-a1f13996521d"
      },
      "execution_count": null,
      "outputs": [
        {
          "output_type": "stream",
          "name": "stdout",
          "text": [
            "2\n",
            "4\n"
          ]
        }
      ]
    },
    {
      "cell_type": "code",
      "source": [
        "#printing numbers for 10 to 0\n",
        "for i in range(10, -1, -1):\n",
        "  print(i)"
      ],
      "metadata": {
        "colab": {
          "base_uri": "https://localhost:8080/"
        },
        "id": "YtdU2JNcajAP",
        "outputId": "ba57b774-e1e7-4a02-da92-48bf6e8e9878"
      },
      "execution_count": null,
      "outputs": [
        {
          "output_type": "stream",
          "name": "stdout",
          "text": [
            "10\n",
            "9\n",
            "8\n",
            "7\n",
            "6\n",
            "5\n",
            "4\n",
            "3\n",
            "2\n",
            "1\n",
            "0\n"
          ]
        }
      ]
    },
    {
      "cell_type": "code",
      "source": [
        "for i in range(0, 11, 1 ):\n",
        "  print(i)"
      ],
      "metadata": {
        "colab": {
          "base_uri": "https://localhost:8080/"
        },
        "id": "FH6YLAKeeQnV",
        "outputId": "9e3b6cc1-f449-4f20-a61d-f52188717403"
      },
      "execution_count": null,
      "outputs": [
        {
          "output_type": "stream",
          "name": "stdout",
          "text": [
            "0\n",
            "1\n",
            "2\n",
            "3\n",
            "4\n",
            "5\n",
            "6\n",
            "7\n",
            "8\n",
            "9\n",
            "10\n"
          ]
        }
      ]
    },
    {
      "cell_type": "code",
      "source": [
        "for i in range(-1, -11, -1):\n",
        "  print(i)"
      ],
      "metadata": {
        "colab": {
          "base_uri": "https://localhost:8080/"
        },
        "id": "Nj8qlZf9eiIj",
        "outputId": "b4314f9c-1af0-4647-89b3-2eed1ce0e863"
      },
      "execution_count": null,
      "outputs": [
        {
          "output_type": "stream",
          "name": "stdout",
          "text": [
            "-1\n",
            "-2\n",
            "-3\n",
            "-4\n",
            "-5\n",
            "-6\n",
            "-7\n",
            "-8\n",
            "-9\n",
            "-10\n"
          ]
        }
      ]
    },
    {
      "cell_type": "code",
      "source": [
        "sum = 0\n",
        "for i in range(0, 101, 1):\n",
        "  sum = sum +i\n",
        "print(sum)"
      ],
      "metadata": {
        "colab": {
          "base_uri": "https://localhost:8080/"
        },
        "id": "dw51Xv7yer0b",
        "outputId": "cb87ef21-339f-4118-e4d9-e192e413243c"
      },
      "execution_count": null,
      "outputs": [
        {
          "output_type": "stream",
          "name": "stdout",
          "text": [
            "5050\n"
          ]
        }
      ]
    },
    {
      "cell_type": "code",
      "source": [
        "#Calculating sum of even numbers in python\n"
      ],
      "metadata": {
        "id": "SIbyWftuf-0b"
      },
      "execution_count": null,
      "outputs": []
    },
    {
      "cell_type": "code",
      "source": [
        "sum = 0\n",
        "for i in range (0, 101, 2):\n",
        "  sum = sum+i\n",
        "print(sum)"
      ],
      "metadata": {
        "colab": {
          "base_uri": "https://localhost:8080/"
        },
        "id": "zps6J43pf-8f",
        "outputId": "b95caf13-811c-4b96-e98a-963f72486a0c"
      },
      "execution_count": null,
      "outputs": [
        {
          "output_type": "stream",
          "name": "stdout",
          "text": [
            "2550\n"
          ]
        }
      ]
    },
    {
      "cell_type": "code",
      "source": [
        "#Fizz buzz job program\n",
        "\"\"\"\n",
        "Number divisible by 3...it should print fizz\n",
        "number divisible by 5 ,,,should print buzz\n",
        "number divisible by both .....FizzBuzz\n",
        "other than that ,,,,,it should print that number\n",
        "\n",
        "\n",
        "\n",
        "\n",
        "\n",
        "\n",
        "\n",
        "\"\"\"\"\"\""
      ],
      "metadata": {
        "id": "nGXZ-mtFgTHY"
      },
      "execution_count": null,
      "outputs": []
    },
    {
      "cell_type": "code",
      "source": [
        "for i in range(1, 101):\n",
        "  if i%3 ==0 and i%5 ==0:\n",
        "    print(\"FizzBuzz\")\n",
        "  elif i%3==0:\n",
        "    print(\"Fizz\")\n",
        "  elif i%5 ==0:\n",
        "    print(\"Buzz\")\n",
        "\n",
        "  else:\n",
        "    print(i)"
      ],
      "metadata": {
        "colab": {
          "base_uri": "https://localhost:8080/"
        },
        "id": "5oX16kaoh-Y1",
        "outputId": "01ac5277-bf08-4b41-a9d9-874aaddddd4f"
      },
      "execution_count": null,
      "outputs": [
        {
          "output_type": "stream",
          "name": "stdout",
          "text": [
            "1\n",
            "2\n",
            "Fizz\n",
            "4\n",
            "Buzz\n",
            "Fizz\n",
            "7\n",
            "8\n",
            "Fizz\n",
            "Buzz\n",
            "11\n",
            "Fizz\n",
            "13\n",
            "14\n",
            "FizzBuzz\n",
            "16\n",
            "17\n",
            "Fizz\n",
            "19\n",
            "Buzz\n",
            "Fizz\n",
            "22\n",
            "23\n",
            "Fizz\n",
            "Buzz\n",
            "26\n",
            "Fizz\n",
            "28\n",
            "29\n",
            "FizzBuzz\n",
            "31\n",
            "32\n",
            "Fizz\n",
            "34\n",
            "Buzz\n",
            "Fizz\n",
            "37\n",
            "38\n",
            "Fizz\n",
            "Buzz\n",
            "41\n",
            "Fizz\n",
            "43\n",
            "44\n",
            "FizzBuzz\n",
            "46\n",
            "47\n",
            "Fizz\n",
            "49\n",
            "Buzz\n",
            "Fizz\n",
            "52\n",
            "53\n",
            "Fizz\n",
            "Buzz\n",
            "56\n",
            "Fizz\n",
            "58\n",
            "59\n",
            "FizzBuzz\n",
            "61\n",
            "62\n",
            "Fizz\n",
            "64\n",
            "Buzz\n",
            "Fizz\n",
            "67\n",
            "68\n",
            "Fizz\n",
            "Buzz\n",
            "71\n",
            "Fizz\n",
            "73\n",
            "74\n",
            "FizzBuzz\n",
            "76\n",
            "77\n",
            "Fizz\n",
            "79\n",
            "Buzz\n",
            "Fizz\n",
            "82\n",
            "83\n",
            "Fizz\n",
            "Buzz\n",
            "86\n",
            "Fizz\n",
            "88\n",
            "89\n",
            "FizzBuzz\n",
            "91\n",
            "92\n",
            "Fizz\n",
            "94\n",
            "Buzz\n",
            "Fizz\n",
            "97\n",
            "98\n",
            "Fizz\n",
            "Buzz\n"
          ]
        }
      ]
    },
    {
      "cell_type": "code",
      "source": [
        "#Password Generator program\n"
      ],
      "metadata": {
        "id": "Xd_BSFa3h-rh"
      },
      "execution_count": null,
      "outputs": []
    },
    {
      "cell_type": "code",
      "source": [
        "import random\n",
        "Letters = ['A', 'B', 'C', 'D', 'E', 'F', 'G', 'H', 'I', 'J', 'K', 'L', 'M', 'N', 'O', 'P',\n",
        "           'Q', 'R', 'S', 'T', 'U', 'V', 'W', 'X', 'Y', 'Z','a', 'b', 'c', 'd', 'e', 'f',\n",
        "           'g', 'h', 'i', 'j', 'k', 'l', 'm', 'n', 'o', 'p', 'q'\n",
        "            'r', 's', 't', 'u', 'v', 'w', 'x', 'y', 'z' ]\n",
        "\n",
        "number = ['0', '1', '2', '3', '4', '5', '6', '7', '8', '9']\n",
        "\n",
        "symbols = ['!', '@', '#', '%', '&', '*', '+']\n",
        "print (\"Welcome to password generator\")\n",
        "L = int(input(\"How many letters you want\"))\n",
        "S = int(input(\"How many symbols you want\") )\n",
        "N = int(input(\"How many Numbers you want\"))\n",
        "password = \"\"\n",
        "for i in range(1, L+1):\n",
        "  char = random.choice(Letters)\n",
        "  password = password + char\n",
        "\n",
        "#print(password)\n",
        "for i in range(1, S+1):\n",
        "  char = random.choice(symbols)\n",
        "  password = password + char\n",
        "\n",
        "for i in range (1, N+1):\n",
        "  char = random.choice(number)\n",
        "  password = password + char\n",
        "\n",
        "print(password)\n",
        "\n"
      ],
      "metadata": {
        "colab": {
          "base_uri": "https://localhost:8080/"
        },
        "id": "pIzVmWf5h-vO",
        "outputId": "aef658cf-45db-4663-a42b-d143c1cb412f"
      },
      "execution_count": null,
      "outputs": [
        {
          "output_type": "stream",
          "name": "stdout",
          "text": [
            "Welcome to password generator\n",
            "How many letters you want9\n",
            "How many symbols you want5\n",
            "How many Numbers you want5\n",
            "RnfwmtsiL%@@++47064\n"
          ]
        }
      ]
    },
    {
      "cell_type": "markdown",
      "source": [
        "**While Loop**"
      ],
      "metadata": {
        "id": "TsIs_UeV4hTR"
      }
    },
    {
      "cell_type": "code",
      "source": [
        "count = 1\n",
        "while count <=5:\n",
        "  print(count)\n",
        "  count = count+1\n",
        "print(\"Out from loop\")"
      ],
      "metadata": {
        "id": "ovkGRJRHnO14",
        "colab": {
          "base_uri": "https://localhost:8080/"
        },
        "outputId": "5293b078-a4be-4e69-e22d-24181a070b60"
      },
      "execution_count": null,
      "outputs": [
        {
          "output_type": "stream",
          "name": "stdout",
          "text": [
            "1\n",
            "2\n",
            "3\n",
            "4\n",
            "5\n",
            "Out from loop\n"
          ]
        }
      ]
    },
    {
      "cell_type": "code",
      "source": [
        "count = 5\n",
        "while count >0:\n",
        "  print(count)\n",
        "  count = count-1\n",
        "print(\"Out from loop\")"
      ],
      "metadata": {
        "colab": {
          "base_uri": "https://localhost:8080/"
        },
        "id": "coamfDmT5ZUU",
        "outputId": "dcc6090b-9727-418b-a612-652d9d4bb978"
      },
      "execution_count": null,
      "outputs": [
        {
          "output_type": "stream",
          "name": "stdout",
          "text": [
            "5\n",
            "4\n",
            "3\n",
            "2\n",
            "1\n",
            "Out from loop\n"
          ]
        }
      ]
    },
    {
      "cell_type": "code",
      "source": [
        "count = 5\n",
        "while count >0:  print(count);  count = count-1\n",
        "print(\"Out from loop\")"
      ],
      "metadata": {
        "colab": {
          "base_uri": "https://localhost:8080/"
        },
        "id": "FHLZbJ3A5ldj",
        "outputId": "b18d0a76-ed61-4704-a079-2838ea366515"
      },
      "execution_count": null,
      "outputs": [
        {
          "output_type": "stream",
          "name": "stdout",
          "text": [
            "5\n",
            "4\n",
            "3\n",
            "2\n",
            "1\n",
            "Out from loop\n"
          ]
        }
      ]
    },
    {
      "cell_type": "markdown",
      "source": [
        "**while Else**"
      ],
      "metadata": {
        "id": "i4hrCzVI542_"
      }
    },
    {
      "cell_type": "code",
      "source": [
        "count = 5\n",
        "while count >0:\n",
        "  print(count)\n",
        "  count = count-1\n",
        "  if count == 3:\n",
        "    break\n",
        "else:\n",
        "  print(\"else block\")\n",
        "print(\"Out from loop\")"
      ],
      "metadata": {
        "colab": {
          "base_uri": "https://localhost:8080/"
        },
        "id": "r9-qVaNO53rn",
        "outputId": "e9023d23-914a-45c9-f75b-62d77c709c29"
      },
      "execution_count": null,
      "outputs": [
        {
          "output_type": "stream",
          "name": "stdout",
          "text": [
            "5\n",
            "4\n",
            "Out from loop\n"
          ]
        }
      ]
    },
    {
      "cell_type": "code",
      "source": [
        "count = 5\n",
        "while count >0:\n",
        "  print(count)\n",
        "  count = count-1\n",
        "  if count ==3:\n",
        "    break\n",
        "else:\n",
        "  print(\"else block executed\")\n",
        "print(\"Out from loop\")"
      ],
      "metadata": {
        "colab": {
          "base_uri": "https://localhost:8080/"
        },
        "id": "ARRUSD5A54BC",
        "outputId": "d01ecb1a-01cb-4386-b17b-7b9bff3a5d6e"
      },
      "execution_count": null,
      "outputs": [
        {
          "output_type": "stream",
          "name": "stdout",
          "text": [
            "5\n",
            "4\n",
            "Out from loop\n"
          ]
        }
      ]
    },
    {
      "cell_type": "markdown",
      "source": [
        "**Difference between for loop and else loop**"
      ],
      "metadata": {
        "id": "IdgPVnAR6g67"
      }
    },
    {
      "cell_type": "code",
      "source": [
        "number  = int(input(\"enter the number (-1 to quit)\"))\n",
        "while number != -1:\n",
        "  print(number)\n",
        "  number  = int(input(\"enetr the number (-1 to quit)\"))\n",
        "else:\n",
        "  print(\"else block executed\")\n",
        "print(\"out from the loop\")"
      ],
      "metadata": {
        "colab": {
          "base_uri": "https://localhost:8080/"
        },
        "id": "41gVJaIe6cdR",
        "outputId": "05a19e90-2876-4a9a-eb35-b0bc8d5684c5"
      },
      "execution_count": null,
      "outputs": [
        {
          "output_type": "stream",
          "name": "stdout",
          "text": [
            "enter the number (-1 to quit)4\n",
            "4\n",
            "enetr the number (-1 to quit)5\n",
            "5\n",
            "enetr the number (-1 to quit)7\n",
            "7\n",
            "enetr the number (-1 to quit)-1\n",
            "else block executed\n",
            "out from the loop\n"
          ]
        }
      ]
    },
    {
      "cell_type": "code",
      "source": [
        "count = 0\n",
        "while True:\n",
        "  print(count)\n",
        "  count +=1\n",
        "  if count ==5:\n",
        "    break\n",
        "else:\n",
        "  print(\"in else block\")\n",
        "print(\"out from loop\")"
      ],
      "metadata": {
        "colab": {
          "base_uri": "https://localhost:8080/"
        },
        "id": "h2-gOuSV8yBx",
        "outputId": "4d4467d3-550f-439d-b997-73459c0f97fc"
      },
      "execution_count": null,
      "outputs": [
        {
          "output_type": "stream",
          "name": "stdout",
          "text": [
            "0\n",
            "1\n",
            "2\n",
            "3\n",
            "4\n",
            "out from loop\n"
          ]
        }
      ]
    },
    {
      "cell_type": "code",
      "source": [
        "# Write a Program to"
      ],
      "metadata": {
        "id": "J6yFMyfC9cnK"
      },
      "execution_count": null,
      "outputs": []
    },
    {
      "cell_type": "code",
      "source": [
        "total = 0\n",
        "number =  int(input(\"enter the number (0 to quit)\"))\n",
        "while number !=0:\n",
        "  total = total + number\n",
        "  number =  int(input(\"enter the number (0 to quit)\"))\n",
        "print(total)\n"
      ],
      "metadata": {
        "colab": {
          "base_uri": "https://localhost:8080/"
        },
        "id": "WYAhmO0k9c01",
        "outputId": "69e65267-813e-42bb-cdf4-a0fe7a7084b5"
      },
      "execution_count": null,
      "outputs": [
        {
          "output_type": "stream",
          "name": "stdout",
          "text": [
            "enter the number (0 to quit)32\n",
            "enter the number (0 to quit)45\n",
            "enter the number (0 to quit)43\n",
            "enter the number (0 to quit)0\n",
            "120\n"
          ]
        }
      ]
    },
    {
      "cell_type": "markdown",
      "source": [
        "**Break**"
      ],
      "metadata": {
        "id": "t2fn6_Ag1QUv"
      }
    },
    {
      "cell_type": "code",
      "source": [
        "#In order to change the flow of execution of the loop\n",
        "\n",
        "\n",
        "\"\"\"\n",
        "1..Break....There are some situations when you want to exit from the loop compeletely at that time we can use break:\n",
        "2..Continue...There are some situtations when you want to skip some part of loop and start next iteration\n",
        "3..Pass..When we want the statement to be used syantactically but no command and code has to be executed.\n",
        "It is used as we cannot have an empty body of the loop\n",
        "\n",
        "\n",
        "\"\"\"\n"
      ],
      "metadata": {
        "id": "t72ctZqF1KdC"
      },
      "execution_count": null,
      "outputs": []
    },
    {
      "cell_type": "code",
      "source": [],
      "metadata": {
        "colab": {
          "base_uri": "https://localhost:8080/"
        },
        "id": "NC5TVIZJ1KlE",
        "outputId": "9e38d78d-5c46-4836-fc0e-9edd81561392"
      },
      "execution_count": null,
      "outputs": [
        {
          "output_type": "stream",
          "name": "stdout",
          "text": [
            "pass:  H\n",
            "pass:  e\n",
            "pass:  l\n",
            "pass:  l\n",
            "pass:  o\n",
            "Done\n"
          ]
        }
      ]
    },
    {
      "cell_type": "code",
      "source": [
        "#Break:  This control statement is used only in for and while loop:\n",
        "count = 0\n",
        "while count < 10:\n",
        "  print(count)\n",
        "  count +=1\n",
        "  if count ==7:\n",
        "    break\n",
        "  print(\" In while  loop \")\n",
        "\n",
        "print(\"Done\")\n"
      ],
      "metadata": {
        "colab": {
          "base_uri": "https://localhost:8080/"
        },
        "id": "IwBUHS5K4-Mc",
        "outputId": "7860855e-6906-4487-ade8-cde9466095ae"
      },
      "execution_count": null,
      "outputs": [
        {
          "output_type": "stream",
          "name": "stdout",
          "text": [
            "0\n",
            " In while  loop \n",
            "1\n",
            " In while  loop \n",
            "2\n",
            " In while  loop \n",
            "3\n",
            " In while  loop \n",
            "4\n",
            " In while  loop \n",
            "5\n",
            " In while  loop \n",
            "6\n",
            "Done\n"
          ]
        }
      ]
    },
    {
      "cell_type": "code",
      "source": [
        "List = [\"Hi\", \"Hello\", \"Welcome\"]\n",
        "name = [\"Aditya\", \"Kushal\", \"Tigmanshu\"]\n",
        "for item in List:\n",
        "  for i in name:\n",
        "    print(item,i)\n",
        "    if item == \"Hello\" and i == \"Kushal\":\n",
        "      break\n",
        "  print(\"out from inner loop\")\n",
        "print(\"out from outer loop\")"
      ],
      "metadata": {
        "colab": {
          "base_uri": "https://localhost:8080/"
        },
        "id": "Vv9wxjuz4-So",
        "outputId": "d73be5e8-58cf-47d7-be04-92c4eb2e03c7"
      },
      "execution_count": null,
      "outputs": [
        {
          "output_type": "stream",
          "name": "stdout",
          "text": [
            "Hi Aditya\n",
            "Hi Kushal\n",
            "Hi Tigmanshu\n",
            "out from inner loop\n",
            "Hello Aditya\n",
            "Hello Kushal\n",
            "out from inner loop\n",
            "Welcome Aditya\n",
            "Welcome Kushal\n",
            "Welcome Tigmanshu\n",
            "out from inner loop\n",
            "out from outer loop\n"
          ]
        }
      ]
    },
    {
      "cell_type": "code",
      "source": [
        "count1 = 0\n",
        "while count1 < 10:\n",
        "  print(count1)\n",
        "  count1 +=1\n",
        "  if count1 == 7:\n",
        "    continue\n",
        "  print(\" Hi \")\n",
        "\n",
        "print(\"Done\")"
      ],
      "metadata": {
        "colab": {
          "base_uri": "https://localhost:8080/"
        },
        "id": "L7HCERjS4-XC",
        "outputId": "cce04362-8ec3-434e-d65b-a54219633424"
      },
      "execution_count": null,
      "outputs": [
        {
          "output_type": "stream",
          "name": "stdout",
          "text": [
            "0\n",
            " Hi \n",
            "1\n",
            " Hi \n",
            "2\n",
            " Hi \n",
            "3\n",
            " Hi \n",
            "4\n",
            " Hi \n",
            "5\n",
            " Hi \n",
            "6\n",
            "7\n",
            " Hi \n",
            "8\n",
            " Hi \n",
            "9\n",
            " Hi \n",
            "Done\n"
          ]
        }
      ]
    },
    {
      "cell_type": "code",
      "source": [
        "count1 = 0\n",
        "while count1 < 10:\n",
        "  print(count1)\n",
        "  count1 +=1\n",
        "  if count1 == 7:\n",
        "    pass\n",
        "  print(\" Hi \")\n",
        "\n",
        "print(\"Done\")"
      ],
      "metadata": {
        "colab": {
          "base_uri": "https://localhost:8080/"
        },
        "id": "ngmeC2akAMI_",
        "outputId": "90bfac5a-69d0-4836-d320-5154e451b800"
      },
      "execution_count": null,
      "outputs": [
        {
          "output_type": "stream",
          "name": "stdout",
          "text": [
            "0\n",
            " Hi \n",
            "1\n",
            " Hi \n",
            "2\n",
            " Hi \n",
            "3\n",
            " Hi \n",
            "4\n",
            " Hi \n",
            "5\n",
            " Hi \n",
            "6\n",
            " Hi \n",
            "7\n",
            " Hi \n",
            "8\n",
            " Hi \n",
            "9\n",
            " Hi \n",
            "Done\n"
          ]
        }
      ]
    },
    {
      "cell_type": "code",
      "source": [
        "#Pass: Null operation\n",
        "\"\"\"\n",
        "In future there may be need of some statements for in the empty loop\n",
        "\n",
        "...We can say it is a place holder for future\n",
        "\n",
        "\"\"\"\""
      ],
      "metadata": {
        "id": "Q5ChSSDMAMU4"
      },
      "execution_count": null,
      "outputs": []
    },
    {
      "cell_type": "code",
      "source": [
        "for i in range(5):\n",
        "  pass"
      ],
      "metadata": {
        "id": "uHm5w6nhBvlN"
      },
      "execution_count": null,
      "outputs": []
    },
    {
      "cell_type": "code",
      "source": [
        "for letter in \"Hello\":\n",
        "  #pass\n",
        "  print(\"pass: \", letter)\n",
        "print(\"Done\")"
      ],
      "metadata": {
        "id": "B2jq45S6Bvsl",
        "colab": {
          "base_uri": "https://localhost:8080/"
        },
        "outputId": "560d49fc-37e5-4c3d-8238-ce600e2108b5"
      },
      "execution_count": null,
      "outputs": [
        {
          "output_type": "stream",
          "name": "stdout",
          "text": [
            "pass:  H\n",
            "pass:  e\n",
            "pass:  l\n",
            "pass:  l\n",
            "pass:  o\n",
            "Done\n"
          ]
        }
      ]
    },
    {
      "cell_type": "code",
      "source": [
        "for i in range(1, 11):\n",
        "  if i == 7:\n",
        "    pass\n",
        "  else:\n",
        "    print(i)"
      ],
      "metadata": {
        "colab": {
          "base_uri": "https://localhost:8080/"
        },
        "id": "8SYYdVRrCkGh",
        "outputId": "7dc9d7b2-d2f6-4638-a33d-664e1e28ed25"
      },
      "execution_count": null,
      "outputs": [
        {
          "output_type": "stream",
          "name": "stdout",
          "text": [
            "1\n",
            "2\n",
            "3\n",
            "4\n",
            "5\n",
            "6\n",
            "8\n",
            "9\n",
            "10\n"
          ]
        }
      ]
    },
    {
      "cell_type": "code",
      "source": [
        "import random\n",
        "List = [\"Apple\" , \"Banana\", \"Orange\" , \"Mango\"]\n",
        "chosen_word = random.choice(List)\n",
        "lives = 6\n",
        "print(chosen_word)\n",
        "display = []\n",
        "#for i in range(len(chosen_word)):\n",
        "for letter in chosen_word:\n",
        "  display += '_'\n",
        "print(display)\n",
        "\n",
        "\n",
        "\n",
        "\n",
        "\n",
        "\n",
        "\n",
        "\n",
        "\n",
        "\n",
        "game_over = False\n",
        "while not game_over:\n",
        "  guessed_letter = input(\"enter the word to be guessed\").lower()\n",
        "  for position in range (len(chosen_word)):\n",
        "\n",
        "    letter = chosen_word[position]\n",
        "    if letter  == guessed_letter:\n",
        "      display[position] = guessed_letter\n",
        "  print(display)\n",
        "\n",
        "  if guessed_letter  not in chosen_word:\n",
        "\n",
        "    lives -= 1\n",
        "    if lives == 0:\n",
        "      game_over = True\n",
        "      print(\"You Loose!\")\n",
        "  if \"_\" not in display:\n",
        "    game_over = True\n",
        "    print(\"You win\")\n",
        "\n",
        "\n",
        "\n",
        "\n",
        "\n"
      ],
      "metadata": {
        "id": "vwWRBdPdCkN4",
        "colab": {
          "base_uri": "https://localhost:8080/"
        },
        "outputId": "045d9ecd-51d5-4d98-894e-3cc886e9e2c8"
      },
      "execution_count": null,
      "outputs": [
        {
          "output_type": "stream",
          "name": "stdout",
          "text": [
            "Orange\n",
            "['_', '_', '_', '_', '_', '_']\n",
            "enter the word to be guessedo\n",
            "['_', '_', '_', '_', '_', '_']\n",
            "enter the word to be guessedr\n",
            "['_', 'r', '_', '_', '_', '_']\n",
            "enter the word to be guesseda\n",
            "['_', 'r', 'a', '_', '_', '_']\n",
            "enter the word to be guessedn\n",
            "['_', 'r', 'a', 'n', '_', '_']\n",
            "enter the word to be guessedg\n",
            "['_', 'r', 'a', 'n', 'g', '_']\n",
            "enter the word to be guessede\n",
            "['_', 'r', 'a', 'n', 'g', 'e']\n",
            "enter the word to be guessed0\n",
            "['_', 'r', 'a', 'n', 'g', 'e']\n",
            "enter the word to be guessedo\n",
            "['_', 'r', 'a', 'n', 'g', 'e']\n",
            "enter the word to be guessedO\n",
            "['_', 'r', 'a', 'n', 'g', 'e']\n",
            "enter the word to be guessedY\n",
            "['_', 'r', 'a', 'n', 'g', 'e']\n",
            "enter the word to be guessedU\n",
            "['_', 'r', 'a', 'n', 'g', 'e']\n",
            "You Loose!\n"
          ]
        }
      ]
    }
  ]
}