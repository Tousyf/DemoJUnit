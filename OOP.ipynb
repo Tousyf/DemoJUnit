{
  "nbformat": 4,
  "nbformat_minor": 0,
  "metadata": {
    "colab": {
      "provenance": [],
      "authorship_tag": "ABX9TyNoDQOCmfw0eWxNbRitpnr8",
      "include_colab_link": true
    },
    "kernelspec": {
      "name": "python3",
      "display_name": "Python 3"
    },
    "language_info": {
      "name": "python"
    }
  },
  "cells": [
    {
      "cell_type": "markdown",
      "metadata": {
        "id": "view-in-github",
        "colab_type": "text"
      },
      "source": [
        "<a href=\"https://colab.research.google.com/github/Tousyf/DemoJUnit/blob/master/OOP.ipynb\" target=\"_parent\"><img src=\"https://colab.research.google.com/assets/colab-badge.svg\" alt=\"Open In Colab\"/></a>"
      ]
    },
    {
      "cell_type": "code",
      "execution_count": null,
      "metadata": {
        "colab": {
          "base_uri": "https://localhost:8080/"
        },
        "id": "fYKA23vY3oJP",
        "outputId": "466c06cb-c3a2-4907-d39a-c483677f9208"
      },
      "outputs": [
        {
          "output_type": "stream",
          "name": "stdout",
          "text": [
            "Creating new object\n"
          ]
        }
      ],
      "source": [
        "class InstructorInfo:\n",
        "  #def __init__(self):\n",
        "    print(\"Creating new object\")\n",
        "\n",
        "python = InstructorInfo()"
      ]
    },
    {
      "cell_type": "code",
      "source": [
        "print(type(python))"
      ],
      "metadata": {
        "colab": {
          "base_uri": "https://localhost:8080/"
        },
        "id": "VJE_LNSNFobV",
        "outputId": "665ae995-5660-405d-d5a7-6552c53919a8"
      },
      "execution_count": null,
      "outputs": [
        {
          "output_type": "stream",
          "name": "stdout",
          "text": [
            "<class '__main__.InstructorInfo'>\n"
          ]
        }
      ]
    },
    {
      "cell_type": "code",
      "source": [
        "python.name = \"Touseef\"\n",
        "python.address = \"UPES\""
      ],
      "metadata": {
        "id": "b7gGwN0KF3zj"
      },
      "execution_count": null,
      "outputs": []
    },
    {
      "cell_type": "code",
      "source": [
        "print(python.name)"
      ],
      "metadata": {
        "colab": {
          "base_uri": "https://localhost:8080/"
        },
        "id": "6peJJ8BtHOaG",
        "outputId": "231e2cd1-a0a8-4da2-d131-d857a93c658b"
      },
      "execution_count": null,
      "outputs": [
        {
          "output_type": "stream",
          "name": "stdout",
          "text": [
            "Touseef\n"
          ]
        }
      ]
    },
    {
      "cell_type": "code",
      "source": [
        "print(python.address)"
      ],
      "metadata": {
        "colab": {
          "base_uri": "https://localhost:8080/"
        },
        "id": "svf33ugbHRl1",
        "outputId": "6f5934d8-7f91-4f25-bb19-66d46b53512e"
      },
      "execution_count": null,
      "outputs": [
        {
          "output_type": "stream",
          "name": "stdout",
          "text": [
            "UPES\n"
          ]
        }
      ]
    },
    {
      "cell_type": "code",
      "source": [
        "Java = InstructorInfo()\n",
        "Java.name = \"Sajid\"\n",
        "Java.address = \"UPES\"\n"
      ],
      "metadata": {
        "id": "FW9L0EtgHVnK"
      },
      "execution_count": null,
      "outputs": []
    },
    {
      "cell_type": "code",
      "source": [
        "print(Java.name)"
      ],
      "metadata": {
        "colab": {
          "base_uri": "https://localhost:8080/"
        },
        "id": "_DLG37aSH-Tn",
        "outputId": "627870f0-4d3a-464c-e1a1-c3f623e95307"
      },
      "execution_count": null,
      "outputs": [
        {
          "output_type": "stream",
          "name": "stdout",
          "text": [
            "Sajid\n"
          ]
        }
      ]
    },
    {
      "cell_type": "code",
      "source": [
        "#now till now we have created a class and object but the number of lines are more"
      ],
      "metadata": {
        "id": "zZZVEBs_IApW"
      },
      "execution_count": null,
      "outputs": []
    },
    {
      "cell_type": "code",
      "source": [
        "class Instructor:\n",
        "  def __init__(self, instructor_name, address):\n",
        "    self.name = instructor_name\n",
        "    self.address = address\n",
        "\n",
        "\n",
        "instructor1 = Instructor(\"Touseef\", \"UPES\")\n",
        "print(instructor1.name)"
      ],
      "metadata": {
        "colab": {
          "base_uri": "https://localhost:8080/"
        },
        "id": "fr2wT4caam2N",
        "outputId": "cca30284-83c0-45e4-b9f5-5b95242cc6b9"
      },
      "execution_count": null,
      "outputs": [
        {
          "output_type": "stream",
          "name": "stdout",
          "text": [
            "Touseef\n"
          ]
        }
      ]
    },
    {
      "cell_type": "code",
      "source": [
        "instructor2 = Instructor(\"Sajid\", \"UPES\")\n",
        "print(instructor2.name)"
      ],
      "metadata": {
        "colab": {
          "base_uri": "https://localhost:8080/"
        },
        "id": "i7iR3y7gbZyM",
        "outputId": "dcead035-e040-4d9b-ee99-4c96431ac80f"
      },
      "execution_count": null,
      "outputs": [
        {
          "output_type": "stream",
          "name": "stdout",
          "text": [
            "Sajid\n"
          ]
        }
      ]
    },
    {
      "cell_type": "markdown",
      "source": [
        "**19-03-2024**"
      ],
      "metadata": {
        "id": "wkJWc0f-Irhn"
      }
    },
    {
      "cell_type": "code",
      "source": [
        "#self is the keyword that binds the attributes to the argument recieved"
      ],
      "metadata": {
        "id": "p6lVIfV0F2fD"
      },
      "execution_count": null,
      "outputs": []
    },
    {
      "cell_type": "code",
      "source": [
        "class Instructor:\n",
        "  def __init__(self, name, address):\n",
        "    self.name = name\n",
        "    self.address = address\n",
        "\n",
        "Instructor1 = Instructor(\"Touseef\", \"UPES\")\n",
        "print(Instructor1.name)\n",
        "print(Instructor1.address)"
      ],
      "metadata": {
        "id": "LKG9Vuszbmon",
        "colab": {
          "base_uri": "https://localhost:8080/"
        },
        "outputId": "29eb50d3-e8bd-48b6-a19c-9e5f54ccf74a"
      },
      "execution_count": null,
      "outputs": [
        {
          "output_type": "stream",
          "name": "stdout",
          "text": [
            "Touseef\n",
            "UPES\n"
          ]
        }
      ]
    },
    {
      "cell_type": "code",
      "source": [
        "#init method will be called as many times as objects are created......Self is also used to track the actual object"
      ],
      "metadata": {
        "id": "DLF6R6aFGjbu"
      },
      "execution_count": null,
      "outputs": []
    },
    {
      "cell_type": "code",
      "source": [
        "Instructor2 = Instructor(\"ABC\", \"UPES\")\n",
        "print(Instructor2.name)"
      ],
      "metadata": {
        "colab": {
          "base_uri": "https://localhost:8080/"
        },
        "id": "h3vBWwR7Gjk7",
        "outputId": "18790a4f-7ecf-4b3b-a543-5a0baa5b6eba"
      },
      "execution_count": null,
      "outputs": [
        {
          "output_type": "stream",
          "name": "stdout",
          "text": [
            "ABC\n"
          ]
        }
      ]
    },
    {
      "cell_type": "code",
      "source": [
        "#Default Value can also be set...Like followers\n"
      ],
      "metadata": {
        "id": "JHmYzu0QFxuh"
      },
      "execution_count": null,
      "outputs": []
    },
    {
      "cell_type": "code",
      "source": [
        "class InstructorInfo:\n",
        "  followers = 0 #class object variable\n",
        "  def __init__(self, name, address):\n",
        "    self.name = name\n",
        "    self.address = address\n",
        "    #self.followers = 0\n",
        "\n",
        "Instructor11 = InstructorInfo(\"Touseef\", \"UPES\")\n",
        "print(Instructor11.followers)"
      ],
      "metadata": {
        "colab": {
          "base_uri": "https://localhost:8080/"
        },
        "id": "qci9XBpvHfzA",
        "outputId": "cbb60b43-d56e-4b50-d066-39940e85813c"
      },
      "execution_count": null,
      "outputs": [
        {
          "output_type": "stream",
          "name": "stdout",
          "text": [
            "0\n"
          ]
        }
      ]
    },
    {
      "cell_type": "code",
      "source": [
        "#How to add Methods\n",
        "\n",
        "class InstructorInfo:\n",
        "  followers = 0 #class object variable\n",
        "  def __init__(self, name, address):\n",
        "    self.name = name\n",
        "    self.address = address\n",
        "    #self.followers = 0\n",
        "  def display(self):\n",
        "    print(\"Hi\")\n",
        "\n",
        "Instructor11 = InstructorInfo(\"Touseef\", \"UPES\")\n",
        "print(Instructor11.name)\n",
        "Instructor11.display()\n",
        "print(Instructor11.display())\n"
      ],
      "metadata": {
        "colab": {
          "base_uri": "https://localhost:8080/"
        },
        "id": "p-dNbQ0yHf_l",
        "outputId": "cb471482-5f63-4e85-fdd5-2dca8855d071"
      },
      "execution_count": null,
      "outputs": [
        {
          "output_type": "stream",
          "name": "stdout",
          "text": [
            "Touseef\n",
            "Hi\n",
            "Hi\n",
            "None\n"
          ]
        }
      ]
    },
    {
      "cell_type": "code",
      "source": [
        "class InstructorInfo:\n",
        "  followers = 0 #class object variable\n",
        "  def __init__(self, name, address):\n",
        "    self.name = name\n",
        "    self.address = address\n",
        "    #self.followers = 0\n",
        "  def display(self, subject):\n",
        "    print(f\"Hi I am {self.name} and I am teaching {subject}\")\n",
        "  def update_followers(self, F_Name):\n",
        "    self.followers +=1\n",
        "\n",
        "Instructor11 = InstructorInfo(\"Touseef\", \"UPES\")\n",
        "print(Instructor11.name)\n",
        "Instructor11.display(\"python\")\n",
        "#print(Instructor11.display())\n",
        "Instructor11.update_followers(\"abc\")\n",
        "print(Instructor11.followers)"
      ],
      "metadata": {
        "colab": {
          "base_uri": "https://localhost:8080/"
        },
        "id": "HP28ewRAJnBx",
        "outputId": "ee3ead13-170b-4a12-d688-2d2ea7606016"
      },
      "execution_count": null,
      "outputs": [
        {
          "output_type": "stream",
          "name": "stdout",
          "text": [
            "Touseef\n",
            "Hi I am Touseef and I am teaching python\n",
            "1\n"
          ]
        }
      ]
    },
    {
      "cell_type": "code",
      "source": [
        "#Coding Exercise\n",
        "#use Object Oriented approach to calculate area and circumference  of a circle\n"
      ],
      "metadata": {
        "id": "eWsYc6l_N27S"
      },
      "execution_count": null,
      "outputs": []
    },
    {
      "cell_type": "code",
      "source": [
        "class Circle:\n",
        "  pi = 3.14\n",
        "  def __init__(self, radius=6):\n",
        "    self.R = radius\n",
        "    #self.area  = Circle.pi * radius * radius\n",
        "  def circumference(self):\n",
        "    return 2*self.pi*self.R\n",
        "    #return 2 * Circle.pi * self.R\n",
        "circle_1  = Circle(4)\n",
        "print(circle_1.circumference())\n",
        "#print(circle_1.area)\n",
        "\n",
        "\n"
      ],
      "metadata": {
        "colab": {
          "base_uri": "https://localhost:8080/"
        },
        "id": "u_ndbv6yOj5w",
        "outputId": "c4b69d93-0b17-4e12-ed46-c8bf6986286d"
      },
      "execution_count": null,
      "outputs": [
        {
          "output_type": "stream",
          "name": "stdout",
          "text": [
            "25.12\n",
            "50.24\n"
          ]
        }
      ]
    },
    {
      "cell_type": "code",
      "source": [
        "circle_2  = Circle(45)\n",
        "print(circle_2.circumference())"
      ],
      "metadata": {
        "colab": {
          "base_uri": "https://localhost:8080/"
        },
        "id": "XI--X0AWR8Cp",
        "outputId": "0e769206-83fd-4891-8a01-bbefa57982cc"
      },
      "execution_count": null,
      "outputs": [
        {
          "output_type": "stream",
          "name": "stdout",
          "text": [
            "282.6\n"
          ]
        }
      ]
    },
    {
      "cell_type": "code",
      "source": [
        "#for Area"
      ],
      "metadata": {
        "id": "fzEyRHOTTjqL"
      },
      "execution_count": null,
      "outputs": []
    },
    {
      "cell_type": "code",
      "source": [
        "class Circle:\n",
        "  pi = 3.14\n",
        "  def __init__(self, radius=6):\n",
        "    self.R = radius\n",
        "  def Area(self):\n",
        "    return self.pi*self.R*self.R\n",
        "    #return   Circle.pi * self.R * self.R\n",
        "circle_1  = Circle(4)\n",
        "print(circle_1.Area())"
      ],
      "metadata": {
        "colab": {
          "base_uri": "https://localhost:8080/"
        },
        "id": "vIWOdfB7TjtR",
        "outputId": "1b320d66-35b2-4fbf-9476-98d0d27ca7aa"
      },
      "execution_count": null,
      "outputs": [
        {
          "output_type": "stream",
          "name": "stdout",
          "text": [
            "50.24\n"
          ]
        }
      ]
    },
    {
      "cell_type": "code",
      "source": [
        "#Inheritance\n"
      ],
      "metadata": {
        "id": "leHRQro8Tjzz"
      },
      "execution_count": null,
      "outputs": []
    },
    {
      "cell_type": "code",
      "source": [
        "class Human:\n",
        "  def eat(self):\n",
        "    print(\"I can eat\")\n",
        "  def work(self):\n",
        "    print(\"I can work\")\n",
        "class Male:\n",
        "\n",
        "  def eat(self):\n",
        "\n",
        "    print(\"I can eat\")\n",
        "  def work(self):\n",
        "\n",
        "    print(\"I can work\")\n",
        "male_1 = Male()\n",
        "male_1.eat()\n",
        "male_1.work()\n"
      ],
      "metadata": {
        "colab": {
          "base_uri": "https://localhost:8080/"
        },
        "id": "SVZt4wZ1Tj2r",
        "outputId": "932fb1db-76f1-4662-be60-bcbdc265ad59"
      },
      "execution_count": null,
      "outputs": [
        {
          "output_type": "stream",
          "name": "stdout",
          "text": [
            "I can eat\n",
            "I can work\n"
          ]
        }
      ]
    },
    {
      "cell_type": "code",
      "source": [
        "class Human:\n",
        "  def eat(self):\n",
        "    print(\"I can eat\")\n",
        "  def work(self):\n",
        "    print(\"I can work\")\n",
        "class Male(Human):\n",
        "  pass\n",
        "  #def cricket(self):\n",
        "    #print(\"I can Play Cricket\")\n",
        "male1 = Male()\n",
        "male1.eat()\n",
        "#male1.cricket()"
      ],
      "metadata": {
        "colab": {
          "base_uri": "https://localhost:8080/"
        },
        "id": "6X35sbW_YyyL",
        "outputId": "c57d7784-1260-4fcd-acde-c85890213673"
      },
      "execution_count": null,
      "outputs": [
        {
          "output_type": "stream",
          "name": "stdout",
          "text": [
            "I can eat\n"
          ]
        }
      ]
    },
    {
      "cell_type": "code",
      "source": [
        "#This method is called Method OverRidden\n",
        "\n",
        "\n",
        "class Human:\n",
        "  def eat(self):\n",
        "    print(\"I can eat\")\n",
        "  def work(self):\n",
        "    print(\"I can work\")\n",
        "\n",
        "\n",
        "\n",
        "\n",
        "class Male(Human):\n",
        "  pass\n",
        "  #def work(self):\n",
        "   # pass\n",
        "\n",
        "   #print(\"I can code also\")\n",
        "\n",
        "\n",
        "male1 = Male()\n",
        "male1.eat()\n",
        "male1.work()\n",
        "#male1.cricket()"
      ],
      "metadata": {
        "colab": {
          "base_uri": "https://localhost:8080/"
        },
        "id": "guvmY5_TZMH3",
        "outputId": "17ead295-df15-49ee-d3d2-b50a71ba53d7"
      },
      "execution_count": null,
      "outputs": [
        {
          "output_type": "stream",
          "name": "stdout",
          "text": [
            "I can eat\n",
            "I can work\n"
          ]
        }
      ]
    },
    {
      "cell_type": "code",
      "source": [
        "#I we want to print both the methods in the parent class as well as in child class"
      ],
      "metadata": {
        "id": "ZiZdG8RXcSgL"
      },
      "execution_count": null,
      "outputs": []
    },
    {
      "cell_type": "code",
      "source": [
        "#This method is called Method OverRidden\n",
        "\n",
        "\n",
        "class Human:\n",
        "  def eat(self):\n",
        "    print(\"I can eat\")\n",
        "  def work(self):\n",
        "    print(\"I can work\")\n",
        "\n",
        "class Male(Human):\n",
        "  def work(self):\n",
        "    super().work()\n",
        "    print(\"I can code also\")\n",
        "male1 = Male()\n",
        "#male1.eat()\n",
        "male1.work()\n",
        "#male1.cricket()"
      ],
      "metadata": {
        "colab": {
          "base_uri": "https://localhost:8080/"
        },
        "id": "D2N1DRfTdKop",
        "outputId": "35db671c-5581-47e1-d9f5-f5efbe13d9e2"
      },
      "execution_count": null,
      "outputs": [
        {
          "output_type": "stream",
          "name": "stdout",
          "text": [
            "I can work\n",
            "I can code also\n"
          ]
        }
      ]
    },
    {
      "cell_type": "code",
      "source": [
        "\n",
        "class Human:\n",
        "  def __init__(self):\n",
        "    self.num_eyes = 2\n",
        "    self.num_nose = 1\n",
        "  def eat(self):\n",
        "    print(\"I can eat\")\n",
        "  def work(self):\n",
        "    print(\"I can work\")\n",
        "class Male(Human):\n",
        "  def __init__(self, name):\n",
        "    #\n",
        "    super().__init__()\n",
        "    self.name = name\n",
        "\n",
        "  def work(self):\n",
        "    super().work()\n",
        "    print(\"I can code also\")\n",
        "male1 = Male(\"Sayam\")\n",
        "print(male1.num_eyes)\n",
        "print(male1.num_nose)\n",
        "print(male1.name)\n",
        "#male1.eat()\n",
        "#male1.work()\n",
        "#male1.cricket()"
      ],
      "metadata": {
        "colab": {
          "base_uri": "https://localhost:8080/"
        },
        "id": "0e6eWRu1dKr2",
        "outputId": "add009e2-e5fd-4ea4-d1ab-9f9f4590e853"
      },
      "execution_count": null,
      "outputs": [
        {
          "output_type": "stream",
          "name": "stdout",
          "text": [
            "2\n",
            "1\n",
            "Sayam\n"
          ]
        }
      ]
    },
    {
      "cell_type": "code",
      "source": [
        "#Create  a class for of students taking name and marks of 3 subjects as arguments and print the average of the marks using method"
      ],
      "metadata": {
        "id": "epBEE3R5dKwN"
      },
      "execution_count": null,
      "outputs": []
    },
    {
      "cell_type": "code",
      "source": [
        "class Student:\n",
        "  def __init__(self, name, marks):\n",
        "    self.marks= marks\n",
        "    self.name = name\n",
        "  def getavg(self):\n",
        "    sum = 0\n",
        "    for val in self.marks:\n",
        "      sum += val\n",
        "    print(f\"hi {self.name} your marks is {sum/3}\")\n",
        "\n",
        "\n",
        "s1 = Student(\"Ujjwal\", [45,56,55])\n",
        "s1.getavg()\n",
        "\n",
        "\n"
      ],
      "metadata": {
        "colab": {
          "base_uri": "https://localhost:8080/"
        },
        "id": "yNY8UGNfQJFG",
        "outputId": "8a2ca0c4-7326-4680-b794-caf06bcea6cc"
      },
      "execution_count": null,
      "outputs": [
        {
          "output_type": "stream",
          "name": "stdout",
          "text": [
            "hi Ujjwal your marks is 52.0\n"
          ]
        }
      ]
    },
    {
      "cell_type": "code",
      "source": [],
      "metadata": {
        "id": "npzlpqjLQJNw"
      },
      "execution_count": null,
      "outputs": []
    }
  ]
}