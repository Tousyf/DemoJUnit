{
  "nbformat": 4,
  "nbformat_minor": 0,
  "metadata": {
    "colab": {
      "provenance": [],
      "authorship_tag": "ABX9TyNhkYH7eSHL5PvF/Lq+5GOU",
      "include_colab_link": true
    },
    "kernelspec": {
      "name": "python3",
      "display_name": "Python 3"
    },
    "language_info": {
      "name": "python"
    }
  },
  "cells": [
    {
      "cell_type": "markdown",
      "metadata": {
        "id": "view-in-github",
        "colab_type": "text"
      },
      "source": [
        "<a href=\"https://colab.research.google.com/github/Tousyf/DemoJUnit/blob/master/Abstraction.ipynb\" target=\"_parent\"><img src=\"https://colab.research.google.com/assets/colab-badge.svg\" alt=\"Open In Colab\"/></a>"
      ]
    },
    {
      "cell_type": "code",
      "execution_count": null,
      "metadata": {
        "colab": {
          "base_uri": "https://localhost:8080/"
        },
        "id": "fa6xEizVYDGe",
        "outputId": "335958ec-a4fc-4fb1-bb4c-7db701f72f01"
      },
      "outputs": [
        {
          "output_type": "stream",
          "name": "stdout",
          "text": [
            "Car Started\n"
          ]
        }
      ],
      "source": [
        "#Hiding implementation details to user and showing only essential features to user.\n",
        "\n",
        "\n",
        "\n",
        "\n",
        "class car:\n",
        "  def __init__(self):\n",
        "    self.acc = False\n",
        "    self.brk  = False\n",
        "    self.clutch = False\n",
        "\n",
        "  def start(self):\n",
        "\n",
        "    self.acc = True\n",
        "    self.clutch = True\n",
        "    print(\"Car Started\")\n",
        "\n",
        "car1 = car()\n",
        "car1.start()\n",
        "\n"
      ]
    },
    {
      "cell_type": "markdown",
      "source": [
        "**Encapsulation**"
      ],
      "metadata": {
        "id": "zQWIA3HHaLrc"
      }
    },
    {
      "cell_type": "code",
      "source": [
        "#wrapping data and functions into single unit(object)"
      ],
      "metadata": {
        "id": "BHJxWIUpaKZH"
      },
      "execution_count": null,
      "outputs": []
    },
    {
      "cell_type": "code",
      "source": [
        "class Account:\n",
        "  def __init__(self, balance, Acc_no):\n",
        "    self.balance = balance\n",
        "    self.Acc_no = Acc_no\n",
        "\n",
        "  def debit(self, d_balance):\n",
        "    self.balance -= d_balance\n",
        "    print(\"Rs\", d_balance, \"was debited\")\n",
        "  def credit(self, c_balance):\n",
        "    self.balance += c_balance\n",
        "    print(\"Rs\", c_balance, \"was credited\")\n",
        "  def display(self):\n",
        "    print(self.balance)\n",
        "\n",
        "obj = Account(12000, \"12345\")\n",
        "obj.debit(1200)\n",
        "\n",
        "\n"
      ],
      "metadata": {
        "colab": {
          "base_uri": "https://localhost:8080/"
        },
        "id": "x4Xwj420aKhJ",
        "outputId": "bff9063d-9448-448e-ba02-302b6be0098e"
      },
      "execution_count": null,
      "outputs": [
        {
          "output_type": "stream",
          "name": "stdout",
          "text": [
            "Rs 1200 was debited\n"
          ]
        }
      ]
    },
    {
      "cell_type": "code",
      "source": [
        "obj.display()"
      ],
      "metadata": {
        "colab": {
          "base_uri": "https://localhost:8080/"
        },
        "id": "bR1wwiAzaKkP",
        "outputId": "28e9474d-29c7-465e-f597-3c146804c36b"
      },
      "execution_count": null,
      "outputs": [
        {
          "output_type": "stream",
          "name": "stdout",
          "text": [
            "10800\n"
          ]
        }
      ]
    },
    {
      "cell_type": "markdown",
      "source": [
        "**Private and Public Attributes and Methods**"
      ],
      "metadata": {
        "id": "qPfkyeasrZbY"
      }
    },
    {
      "cell_type": "code",
      "source": [
        "class Account:\n",
        "  def __init__(self, acc_no, acc_pass):\n",
        "    self.acc_no = acc_no\n",
        "    self.__acc_pass = acc_pass\n",
        "  def reset_pass(self):\n",
        "    print(self.__acc_pass)\n",
        "\n",
        "obj = Account(\"12345\", \"Abcde\")\n",
        "#print(obj.__acc_pass)\n",
        "obj.reset_pass()"
      ],
      "metadata": {
        "colab": {
          "base_uri": "https://localhost:8080/"
        },
        "id": "ADDT2ovkiZim",
        "outputId": "77c1b9cf-ee5a-47d1-9e87-0db9e4ad45e7"
      },
      "execution_count": null,
      "outputs": [
        {
          "output_type": "stream",
          "name": "stdout",
          "text": [
            "Abcde\n"
          ]
        }
      ]
    },
    {
      "cell_type": "code",
      "source": [
        "#private methods\n",
        "class person:\n",
        "  __name = \"Upes\"\n",
        "\n",
        "  def __hello(self):\n",
        "    print(\"hello person\")\n",
        "\n",
        "  def welcome(self):\n",
        "    self.__hello()\n",
        "\n",
        "p1 = person()\n",
        "p1.welcome()\n",
        "#p1.__hello()"
      ],
      "metadata": {
        "colab": {
          "base_uri": "https://localhost:8080/"
        },
        "id": "KkqqvooNsNwz",
        "outputId": "1615d17d-27c0-4272-a631-b9999eb0c0a9"
      },
      "execution_count": null,
      "outputs": [
        {
          "output_type": "stream",
          "name": "stdout",
          "text": [
            "hello person\n"
          ]
        }
      ]
    },
    {
      "cell_type": "code",
      "source": [
        "class Person:\n",
        "  name  = \"Touseef\"\n",
        "\n",
        "  def ChangeName(self, name):\n",
        "    self.name = name\n",
        "\n",
        "obj = Person()\n",
        "obj.ChangeName(\"Rahul\")\n",
        "print(obj.name)\n",
        "print(Person.name)\n",
        "\n"
      ],
      "metadata": {
        "colab": {
          "base_uri": "https://localhost:8080/"
        },
        "id": "Pjn6cCM3uxn5",
        "outputId": "80d1015f-e123-424a-9ea5-1eb845cd3cd9"
      },
      "execution_count": null,
      "outputs": [
        {
          "output_type": "stream",
          "name": "stdout",
          "text": [
            "Rahul\n",
            "Touseef\n"
          ]
        }
      ]
    },
    {
      "cell_type": "code",
      "source": [],
      "metadata": {
        "id": "kwbb3nqYxcPK"
      },
      "execution_count": null,
      "outputs": []
    }
  ]
}