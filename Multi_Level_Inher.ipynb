{
  "nbformat": 4,
  "nbformat_minor": 0,
  "metadata": {
    "colab": {
      "provenance": [],
      "authorship_tag": "ABX9TyODLSrsP7Wihpx82cTIyB0g",
      "include_colab_link": true
    },
    "kernelspec": {
      "name": "python3",
      "display_name": "Python 3"
    },
    "language_info": {
      "name": "python"
    }
  },
  "cells": [
    {
      "cell_type": "markdown",
      "metadata": {
        "id": "view-in-github",
        "colab_type": "text"
      },
      "source": [
        "<a href=\"https://colab.research.google.com/github/Tousyf/DemoJUnit/blob/master/Multi_Level_Inher.ipynb\" target=\"_parent\"><img src=\"https://colab.research.google.com/assets/colab-badge.svg\" alt=\"Open In Colab\"/></a>"
      ]
    },
    {
      "cell_type": "code",
      "execution_count": null,
      "metadata": {
        "colab": {
          "base_uri": "https://localhost:8080/"
        },
        "id": "XL_vux-N0Eq6",
        "outputId": "0feaef08-1ae8-4c18-b7c5-77b870f563d3"
      },
      "outputs": [
        {
          "output_type": "stream",
          "name": "stdout",
          "text": [
            "I can eat\n"
          ]
        }
      ],
      "source": [
        "class Human:\n",
        "  def eat(self):\n",
        "    print(\"I can eat\")\n",
        "class male(Human):\n",
        "  def work(self):\n",
        "    print(\"I can work\")\n",
        "class boy(male):\n",
        "  def code(self):\n",
        "    print(\"I can code\")\n",
        "boy1 = boy()\n",
        "boy1.eat()"
      ]
    },
    {
      "cell_type": "code",
      "source": [
        "#Same methods\n",
        "\n",
        "\n",
        "class Human:\n",
        "  def work(self):\n",
        "    print(\"I can work\")\n",
        "class male(Human):\n",
        "  def work(self):\n",
        "    print(\"I too can work  \")\n",
        "class boy(male):\n",
        "  def work(self):\n",
        "    #Human.work(self)\n",
        "    #super().work()\n",
        "    print(\"I can code\")\n",
        "boy1 = boy()\n",
        "boy1.work()"
      ],
      "metadata": {
        "colab": {
          "base_uri": "https://localhost:8080/"
        },
        "id": "Y957haDN9ypd",
        "outputId": "ade6613d-b2d3-45cc-a0e8-94db79c77f36"
      },
      "execution_count": null,
      "outputs": [
        {
          "output_type": "stream",
          "name": "stdout",
          "text": [
            "I can code\n"
          ]
        }
      ]
    },
    {
      "cell_type": "code",
      "source": [
        "class Human:\n",
        "  def work(self):\n",
        "    print(\"I can work\")\n",
        "class male(Human):\n",
        "  def work(self):\n",
        "    print(\"I too can work  \")\n",
        "class boy(male):\n",
        "  def work(self):\n",
        "    #Human.work(self)\n",
        "    #super().work()\n",
        "    print(\"I can code\")\n",
        "class Programmer(boy):\n",
        "  def prog(self):\n",
        "    print(\"I can write programs\")\n",
        "\n",
        "boy1 = boy()\n",
        "boy1.work()\n",
        "\n",
        "prog1 = Programmer()\n",
        "prog1.work()"
      ],
      "metadata": {
        "colab": {
          "base_uri": "https://localhost:8080/"
        },
        "id": "-Tq3g7gq-OWz",
        "outputId": "a8816d8f-4677-49c8-970f-3ea696d9763e"
      },
      "execution_count": null,
      "outputs": [
        {
          "output_type": "stream",
          "name": "stdout",
          "text": [
            "I can code\n",
            "I can code\n"
          ]
        }
      ]
    },
    {
      "cell_type": "code",
      "source": [
        "#Accessing Attributes"
      ],
      "metadata": {
        "id": "-8T1qXhDBRGl"
      },
      "execution_count": null,
      "outputs": []
    },
    {
      "cell_type": "code",
      "source": [
        "class Human(object):\n",
        "  def __init__(self, num_heart):\n",
        "    print(\"claling Init from human\")\n",
        "    self.eyes = 2\n",
        "    self.nose = 1\n",
        "    self.heart = num_heart\n",
        "  def work(self):\n",
        "    print(\"I can work\")\n",
        "\n",
        "class male(Human):\n",
        "  def __init__(self, name):\n",
        "    print(\"calling init from male\")\n",
        "    self.name= name\n",
        "  def work(self):\n",
        "    print(\"I too can work  \")\n",
        "\n",
        "class boy(male):\n",
        "  def __init__(self, num_heart, name ):\n",
        "    Human.__init__(self,num_heart)\n",
        "    male.__init__(self,name)\n",
        "\n",
        "  def work(self):\n",
        "    #Human.work(self)\n",
        "    #super().work()\n",
        "    print(\"I can code\")\n",
        "boy1 = boy(1, \"rahul\")\n",
        "print(boy1.name)\n",
        "#print(boy1.eyes)\n",
        "boy.mro()"
      ],
      "metadata": {
        "colab": {
          "base_uri": "https://localhost:8080/"
        },
        "id": "HFnDIDtIBRJh",
        "outputId": "536a8832-9f1e-49ee-889a-7d2c8ed60f4f"
      },
      "execution_count": null,
      "outputs": [
        {
          "output_type": "stream",
          "name": "stdout",
          "text": [
            "claling Init from human\n",
            "calling init from male\n",
            "rahul\n"
          ]
        },
        {
          "output_type": "execute_result",
          "data": {
            "text/plain": [
              "[__main__.boy, __main__.male, __main__.Human, object]"
            ]
          },
          "metadata": {},
          "execution_count": 2
        }
      ]
    },
    {
      "cell_type": "markdown",
      "source": [
        "**Heirarchical Inheritance**"
      ],
      "metadata": {
        "id": "jH1vknoFJfOz"
      }
    },
    {
      "cell_type": "code",
      "source": [
        "#one psrent and multiple child classes"
      ],
      "metadata": {
        "id": "qUcAXrAXBRMI"
      },
      "execution_count": null,
      "outputs": []
    },
    {
      "cell_type": "code",
      "source": [
        "class Human(object):\n",
        "  def eat(self):\n",
        "    print(\"I can eat\")\n",
        "class Male(Human):\n",
        "  def work(self):\n",
        "    print(\"I can work\")\n",
        "class Female(Human):\n",
        "  def code(self):\n",
        "    print(\"I can code also\")\n",
        "Obj1 = Female()\n",
        "#Obj1.work()\n",
        "Obj1.eat()\n",
        "Obj1.code()"
      ],
      "metadata": {
        "colab": {
          "base_uri": "https://localhost:8080/"
        },
        "id": "dg0ckYvoJpWP",
        "outputId": "f1125612-db9d-4784-a3c6-7e22ad7754d6"
      },
      "execution_count": null,
      "outputs": [
        {
          "output_type": "stream",
          "name": "stdout",
          "text": [
            "I can eat\n",
            "I can code also\n"
          ]
        }
      ]
    },
    {
      "cell_type": "code",
      "source": [
        "Obj2 = Male()\n",
        "Obj2.work()\n",
        "Obj2.eat()"
      ],
      "metadata": {
        "colab": {
          "base_uri": "https://localhost:8080/"
        },
        "id": "Bv9EilX2JpYz",
        "outputId": "96cf3151-e131-487d-f52c-c2ea21a1b62d"
      },
      "execution_count": null,
      "outputs": [
        {
          "output_type": "stream",
          "name": "stdout",
          "text": [
            "I can work\n",
            "I can eat\n"
          ]
        }
      ]
    },
    {
      "cell_type": "code",
      "source": [
        "#Accessing Attributes"
      ],
      "metadata": {
        "id": "EvqFL9ceLH-k"
      },
      "execution_count": null,
      "outputs": []
    },
    {
      "cell_type": "code",
      "source": [
        "class Human(object):\n",
        "  def __init__(self, name, age):\n",
        "    self.name =name\n",
        "    self.age = age\n",
        "  def Display(self):\n",
        "    print(f\"My name is {self.name} and my age is {self.age}\")\n",
        "  def eat(self):\n",
        "    print(\"I can eat\")\n",
        "\n",
        "\n",
        "class Male(Human):\n",
        "  def __init__(self, name , age, location):\n",
        "    print(\"I am __init__ of male class\")\n",
        "    Human.__init__(self, name, age)\n",
        "    self.location = location\n",
        "  def work(self):\n",
        "    print(\"I can work\")\n",
        "\n",
        "\n",
        "class Female(Human):\n",
        "  def __init__(self, name, age):\n",
        "    Human.__init__(self, name, age)\n",
        "    print(\"I am __init__ of female class\")\n",
        "    #Human.Display(self)\n",
        "  #def code(self):\n",
        "   # print(\"I can code also\")\n",
        "\n",
        "\n",
        "\n",
        "\n",
        "#Obj1 = Female(\"Touseef\", 29)\n",
        "#print(Obj1.name)\n",
        "#Obj1.Display()\n",
        "Obj2 = Male(\"Touseef\", 29, \"Upes\")\n",
        "Obj2.Display()\n"
      ],
      "metadata": {
        "colab": {
          "base_uri": "https://localhost:8080/"
        },
        "id": "cdIiPl4nMnhZ",
        "outputId": "9982df5d-dfa8-4ce7-afe5-7c32491f7fed"
      },
      "execution_count": null,
      "outputs": [
        {
          "output_type": "stream",
          "name": "stdout",
          "text": [
            "I am __init__ of male class\n",
            "My name is Touseef and my age is 29\n"
          ]
        }
      ]
    },
    {
      "cell_type": "markdown",
      "source": [
        "**Hybrid Inheritance**"
      ],
      "metadata": {
        "id": "7BjAJtuFo4tP"
      }
    },
    {
      "cell_type": "code",
      "source": [
        "#Combination of two or more inhritance"
      ],
      "metadata": {
        "id": "gOavHsHhMnkJ"
      },
      "execution_count": null,
      "outputs": []
    },
    {
      "cell_type": "code",
      "source": [
        "class A(object):\n",
        "  def Display(self):\n",
        "    print(\"Display from A class\")\n",
        "class B(A):\n",
        "  def Display(self):\n",
        "    print(\"Display from B class\")\n",
        "\n",
        "class C:\n",
        "  def show(self):\n",
        "    print(\"Show class \")\n",
        "class D(B,C):\n",
        "  def Display(self):\n",
        "    print(\"Hi D class is running\")\n",
        "\n",
        "obj = D()\n",
        "A.Display(obj)\n",
        "print(D.mro())\n",
        "obj.Display()\n",
        "\n"
      ],
      "metadata": {
        "colab": {
          "base_uri": "https://localhost:8080/"
        },
        "id": "DnSKuOKvpBUY",
        "outputId": "ea303fd0-9def-48fe-b2c2-048bce23ca10"
      },
      "execution_count": null,
      "outputs": [
        {
          "output_type": "stream",
          "name": "stdout",
          "text": [
            "Display from A class\n",
            "[<class '__main__.D'>, <class '__main__.B'>, <class '__main__.A'>, <class '__main__.C'>, <class 'object'>]\n",
            "Hi D class is running\n"
          ]
        }
      ]
    },
    {
      "cell_type": "markdown",
      "source": [
        "**Diamond Problem**"
      ],
      "metadata": {
        "id": "SV8ey_4Zzbb2"
      }
    },
    {
      "cell_type": "code",
      "source": [
        "class A:\n",
        "  def Display(self):\n",
        "    print(\"Display from A class\")\n",
        "\n",
        "\n",
        "class B(A):\n",
        "\n",
        "   def Display(self):\n",
        "\n",
        "    print(\"Display from B class\")\n",
        "\n",
        "\n",
        "\n",
        "class C(A):\n",
        "  def show(self):\n",
        "    print(\"Show class from C \")\n",
        "  def Display(self):\n",
        "    print(\"Displaying from C class\")\n",
        "\n",
        "\n",
        "class D(B,C):\n",
        "  pass\n",
        "\n",
        "\n",
        "obj = D()\n",
        "obj.Display()\n",
        "print(D.mro())\n",
        "\n"
      ],
      "metadata": {
        "colab": {
          "base_uri": "https://localhost:8080/"
        },
        "id": "D-tZHLCIpBZU",
        "outputId": "3713b097-b6f2-44a8-f59c-808860feae37"
      },
      "execution_count": null,
      "outputs": [
        {
          "output_type": "stream",
          "name": "stdout",
          "text": [
            "Display from B class\n",
            "[<class '__main__.D'>, <class '__main__.B'>, <class '__main__.C'>, <class '__main__.A'>, <class 'object'>]\n"
          ]
        }
      ]
    },
    {
      "cell_type": "code",
      "source": [],
      "metadata": {
        "id": "5af2wcNrGywg"
      },
      "execution_count": null,
      "outputs": []
    }
  ]
}