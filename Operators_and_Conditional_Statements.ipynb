{
  "nbformat": 4,
  "nbformat_minor": 0,
  "metadata": {
    "colab": {
      "provenance": [],
      "authorship_tag": "ABX9TyM57J/PqFK83RkAcVIZMFu/",
      "include_colab_link": true
    },
    "kernelspec": {
      "name": "python3",
      "display_name": "Python 3"
    },
    "language_info": {
      "name": "python"
    }
  },
  "cells": [
    {
      "cell_type": "markdown",
      "metadata": {
        "id": "view-in-github",
        "colab_type": "text"
      },
      "source": [
        "<a href=\"https://colab.research.google.com/github/Tousyf/DemoJUnit/blob/master/Operators_and_Conditional_Statements.ipynb\" target=\"_parent\"><img src=\"https://colab.research.google.com/assets/colab-badge.svg\" alt=\"Open In Colab\"/></a>"
      ]
    },
    {
      "cell_type": "markdown",
      "source": [
        "**Operators**"
      ],
      "metadata": {
        "id": "79fqQ6fG6GMh"
      }
    },
    {
      "cell_type": "code",
      "execution_count": null,
      "metadata": {
        "id": "UPdmbIDQ59tX"
      },
      "outputs": [],
      "source": [
        "#Arithmetic Operators\n",
        "#symbols used to perform operations\n",
        "# + , - , * , % , / , // , **.\n",
        "#floor division"
      ]
    },
    {
      "cell_type": "markdown",
      "source": [
        "**Operator Precedence and Associativity**"
      ],
      "metadata": {
        "id": "tuam_I9z7VAO"
      }
    },
    {
      "cell_type": "code",
      "source": [
        "#     () ,     **     ,    (*, /, //, %)   , (+, -)\n",
        "# PEMDAS\n",
        "#Associativity: when two or more operators are of same precedence\n",
        "\n",
        "# **............Right to Left\n",
        "# * , % , / , // ,.....Left to right\n",
        "#  + , - ,.............Left to Right\n",
        "\n"
      ],
      "metadata": {
        "id": "ra0sXcnJ7T1t"
      },
      "execution_count": null,
      "outputs": []
    },
    {
      "cell_type": "markdown",
      "source": [
        "**Calculate BMI while taking input from the user**"
      ],
      "metadata": {
        "id": "oBv7A6YP9DSW"
      }
    },
    {
      "cell_type": "code",
      "source": [
        "Weight= int(input(\"Enter the weight of the body =\"))\n",
        "Height= float(input(\"Enter the Height of the body =\"))\n",
        "BMI= Weight/(Height**2)\n",
        "#Weight= input(\"Enter the weight of the body =\")\n",
        "#Height= input(\"Enter the Height of the body =\")\n",
        "#BMI= int(Weight/(Height*Height))\n",
        "print(BMI)"
      ],
      "metadata": {
        "id": "31UWqNHQ7UKO",
        "colab": {
          "base_uri": "https://localhost:8080/"
        },
        "outputId": "f293648c-e038-40e0-81a9-3056f334befb"
      },
      "execution_count": null,
      "outputs": [
        {
          "output_type": "stream",
          "name": "stdout",
          "text": [
            "Enter the weight of the body =78\n",
            "Enter the Height of the body =1.5\n",
            "34.666666666666664\n"
          ]
        }
      ]
    },
    {
      "cell_type": "markdown",
      "source": [
        "**Assignment Operators**"
      ],
      "metadata": {
        "id": "LCHTx73_AGyB"
      }
    },
    {
      "cell_type": "code",
      "source": [
        "#Assignment operators are used to assign values to variables:"
      ],
      "metadata": {
        "id": "E25AzCvh-B2p"
      },
      "execution_count": null,
      "outputs": []
    },
    {
      "cell_type": "code",
      "source": [
        "#=\n",
        "#a = 5\n",
        "#print(a)\n",
        "\n",
        "\n",
        "\n",
        "\n",
        "\n",
        "#+=\n",
        "b=4\n",
        "b += 3 #shorthand assignment operators\n",
        "#b = b + 3\n",
        "print(b)\n",
        "\n",
        "\n",
        "\n",
        "#-=\n",
        "c=5\n",
        "c -= 3\t#c = c - 3\n",
        "print(c)\n",
        "\n",
        "\n",
        "\n",
        "\n",
        "#*=\n",
        "d=1\n",
        "d *= 3\t#d = d * 3\n",
        "print(d)\n",
        "\n",
        "\n",
        "\n",
        "\n",
        "#/=\n",
        "e=6\n",
        "e /= 3\t#e = e / 3\n",
        "print(e)\n",
        "\n",
        "\n",
        "\n",
        "\n",
        "\n",
        "\n",
        "#%=\n",
        "f=7\n",
        "f %= 3\t#f = f % 3\n",
        "print(f)\n",
        "\n",
        "\n",
        "\n",
        "\n",
        "\n",
        "#//=\n",
        "g=6\n",
        "g //= 3\t#g = g // 3\n",
        "print(g)\n",
        "\n",
        "\n",
        "\n",
        "#**=\n",
        "h=2\n",
        "h **= 3\t#h = h ** 3\n",
        "print(h)\n",
        "\n",
        "\n",
        "\n",
        "\n",
        "\n",
        "\"\"\"\n",
        "\n",
        "#&=\n",
        "i=2\n",
        "i &= 3\t#i = i & 3\n",
        "print(i)\n",
        "\n",
        "\n",
        "#|=\n",
        "j=3\n",
        "j |= 3\t#j = j | 3\n",
        "print(j)\n",
        "\n",
        "\n",
        "\n",
        "#^=\n",
        "k=4\n",
        "k ^= 3\t#k = k ^ 3\n",
        "print(\"the value of k is \", k)\n",
        "\n",
        "\n",
        "\n",
        "#>>=\n",
        "l=6\n",
        "l >>= 3\t#l = l >> 3\n",
        "print(\"The value of L is \", l)\n",
        "\n",
        "\n",
        "\n",
        "#<<=\n",
        "m=3\n",
        "m <<= 3\t#x = m << 3\n",
        "print(\"The value of M is\" , m)\n",
        "\n",
        "\n",
        "\"\"\""
      ],
      "metadata": {
        "colab": {
          "base_uri": "https://localhost:8080/",
          "height": 209
        },
        "id": "Cu4tkGao7UOF",
        "outputId": "234ce561-0bba-4cc8-eec8-fb8071a9f529"
      },
      "execution_count": null,
      "outputs": [
        {
          "output_type": "stream",
          "name": "stdout",
          "text": [
            "7\n",
            "2\n",
            "3\n",
            "2.0\n",
            "1\n",
            "2\n",
            "8\n"
          ]
        },
        {
          "output_type": "execute_result",
          "data": {
            "text/plain": [
              "'\\n\\n#&=\\ni=2\\ni &= 3\\t#i = i & 3\\nprint(i)\\n\\n\\n#|=\\nj=3\\nj |= 3\\t#j = j | 3\\nprint(j)\\n\\n\\n\\n#^=\\nk=4\\nk ^= 3\\t#k = k ^ 3\\nprint(\"the value of k is \", k)\\n\\n\\n\\n#>>=\\nl=6\\nl >>= 3\\t#l = l >> 3\\nprint(\"The value of L is \", l)\\n\\n\\n\\n#<<=\\nm=3\\nm <<= 3\\t#x = m << 3\\nprint(\"The value of M is\" , m)\\n\\n\\n'"
            ],
            "application/vnd.google.colaboratory.intrinsic+json": {
              "type": "string"
            }
          },
          "metadata": {},
          "execution_count": 1
        }
      ]
    },
    {
      "cell_type": "markdown",
      "source": [
        "**Comparision Operators**\n",
        "These operators are used to check some conditions between variables"
      ],
      "metadata": {
        "id": "T-rVuB--M1i0"
      }
    },
    {
      "cell_type": "code",
      "source": [
        "\"\"\"\n",
        "==\tEqual\tx == y\n",
        "!=\tNot equal\tx != y\n",
        ">\tGreater than\tx > y\n",
        "<\tLess than\tx < y\n",
        ">=\tGreater than or equal to\tx >= y\n",
        "<=\tLess than or equal to\tx <= y\n",
        "\n",
        "\"\"\""
      ],
      "metadata": {
        "id": "uyNsVtSNM0nv"
      },
      "execution_count": null,
      "outputs": []
    },
    {
      "cell_type": "code",
      "source": [
        "x=5\n",
        "print(x<5)"
      ],
      "metadata": {
        "colab": {
          "base_uri": "https://localhost:8080/"
        },
        "id": "SqFmfIcFM0tQ",
        "outputId": "b6d63fb8-e776-439d-a098-30322464fdea"
      },
      "execution_count": null,
      "outputs": [
        {
          "output_type": "stream",
          "name": "stdout",
          "text": [
            "False\n"
          ]
        }
      ]
    },
    {
      "cell_type": "code",
      "source": [
        "print(x==5)"
      ],
      "metadata": {
        "colab": {
          "base_uri": "https://localhost:8080/"
        },
        "id": "JzJY8wryOerS",
        "outputId": "e6d2deba-8d79-4907-8ef8-ab4a0f8d7cda"
      },
      "execution_count": null,
      "outputs": [
        {
          "output_type": "stream",
          "name": "stdout",
          "text": [
            "True\n"
          ]
        }
      ]
    },
    {
      "cell_type": "code",
      "source": [
        "print(x!=5)"
      ],
      "metadata": {
        "colab": {
          "base_uri": "https://localhost:8080/"
        },
        "id": "Iv8AZ79vOy6d",
        "outputId": "26584a59-cc0f-4349-ea42-da1230ed17a6"
      },
      "execution_count": null,
      "outputs": [
        {
          "output_type": "stream",
          "name": "stdout",
          "text": [
            "False\n"
          ]
        }
      ]
    },
    {
      "cell_type": "code",
      "source": [
        "print(x>=5)"
      ],
      "metadata": {
        "colab": {
          "base_uri": "https://localhost:8080/"
        },
        "id": "wsD7XOdQPP3y",
        "outputId": "585ba1bd-a13f-4f01-be03-868cbacbefdd"
      },
      "execution_count": null,
      "outputs": [
        {
          "output_type": "stream",
          "name": "stdout",
          "text": [
            "True\n"
          ]
        }
      ]
    },
    {
      "cell_type": "markdown",
      "source": [
        "**Logical Opeartors**"
      ],
      "metadata": {
        "id": "wuXYOzzgQKAo"
      }
    },
    {
      "cell_type": "code",
      "source": [
        "# and, or, not\n",
        "# These are actually used to combine conditional statements\n",
        "ab=2\n",
        "ba=4\n",
        "print(ab>1 and ba<5)"
      ],
      "metadata": {
        "colab": {
          "base_uri": "https://localhost:8080/"
        },
        "id": "cclv4Jg2PxVp",
        "outputId": "d4d319ed-67ce-4bf1-dec3-ca64fae38f85"
      },
      "execution_count": null,
      "outputs": [
        {
          "output_type": "stream",
          "name": "stdout",
          "text": [
            "True\n"
          ]
        }
      ]
    },
    {
      "cell_type": "code",
      "source": [
        "print(ab>1 or ba<3)"
      ],
      "metadata": {
        "colab": {
          "base_uri": "https://localhost:8080/"
        },
        "id": "UPVcTDVLR25q",
        "outputId": "954a034a-7be2-4500-ebcb-9f7ac31449cf"
      },
      "execution_count": null,
      "outputs": [
        {
          "output_type": "stream",
          "name": "stdout",
          "text": [
            "False\n"
          ]
        }
      ]
    },
    {
      "cell_type": "code",
      "source": [
        "print(not ab)"
      ],
      "metadata": {
        "colab": {
          "base_uri": "https://localhost:8080/"
        },
        "id": "owi7U9qDR_Jt",
        "outputId": "d3b9a4cd-9350-40d3-f9f4-ba2c68b583eb"
      },
      "execution_count": null,
      "outputs": [
        {
          "output_type": "stream",
          "name": "stdout",
          "text": [
            "False\n"
          ]
        }
      ]
    },
    {
      "cell_type": "code",
      "source": [
        "abc= 0\n",
        "print(not abc)"
      ],
      "metadata": {
        "colab": {
          "base_uri": "https://localhost:8080/"
        },
        "id": "Y2Aqj2YTSCcR",
        "outputId": "6a3709c3-1951-41c0-918f-f6cf5ba1e60e"
      },
      "execution_count": null,
      "outputs": [
        {
          "output_type": "stream",
          "name": "stdout",
          "text": [
            "True\n"
          ]
        }
      ]
    },
    {
      "cell_type": "markdown",
      "source": [
        "**Bitwise Opeartors**"
      ],
      "metadata": {
        "id": "joXu6HmjTIqY"
      }
    },
    {
      "cell_type": "code",
      "source": [
        "#They works on bits or binary numbers\n",
        "\"\"\"\n",
        "and....&\n",
        "or.....|\n",
        "xor....^\n",
        "not....~\n",
        "left shift....<<\n",
        "right shift...>>\n",
        "\n",
        "\"\"\"\n"
      ],
      "metadata": {
        "id": "uwCVW2mhTH6I"
      },
      "execution_count": null,
      "outputs": []
    },
    {
      "cell_type": "code",
      "source": [
        "abc=5\n",
        "acb=4\n",
        "print(abc & acb)  # abc=5=101  and acb=4=100, we represent numbers in 4 bits or 8 bits\n",
        "#     0 1 0 1\n",
        "#     0 1 0 0\n",
        "#........................\n",
        "#&    0 1 0 0\n",
        "#or   0 1 0 1\n",
        "#xor  0 0 0 1  ....if both the bits are different then it will give one otherwise 0\n",
        "#not               it will reverse the bits"
      ],
      "metadata": {
        "colab": {
          "base_uri": "https://localhost:8080/"
        },
        "id": "u8Di85xfTH_t",
        "outputId": "65747607-cb32-43e5-cf5b-a9c47d81521c"
      },
      "execution_count": null,
      "outputs": [
        {
          "output_type": "stream",
          "name": "stdout",
          "text": [
            "4\n"
          ]
        }
      ]
    },
    {
      "cell_type": "code",
      "source": [
        "print(abc|acb)"
      ],
      "metadata": {
        "colab": {
          "base_uri": "https://localhost:8080/"
        },
        "id": "ci1uXbqd2meG",
        "outputId": "80bd9c40-93da-4372-d9c8-ce264994ceaf"
      },
      "execution_count": null,
      "outputs": [
        {
          "output_type": "stream",
          "name": "stdout",
          "text": [
            "5\n"
          ]
        }
      ]
    },
    {
      "cell_type": "code",
      "source": [
        "print(abc^acb)"
      ],
      "metadata": {
        "colab": {
          "base_uri": "https://localhost:8080/"
        },
        "id": "-TvbVpjz3Bs7",
        "outputId": "25930bc1-f0b2-444b-e440-0a851907a307"
      },
      "execution_count": null,
      "outputs": [
        {
          "output_type": "stream",
          "name": "stdout",
          "text": [
            "1\n"
          ]
        }
      ]
    },
    {
      "cell_type": "code",
      "source": [
        "print(~abc) #How....binary of 5..=0101 not of this...1010=10,\n",
        "# we cannot store negative number in memory, for this we calculate 2's complement\n",
        "# 2's complement = 1's complement + 1\n",
        "# for 1's complement we just reverse the bits\n",
        "# binary of six === 0110 its one complement==1001  now add 1 = 1010 which is equal to 10 in decimal\n",
        "\n"
      ],
      "metadata": {
        "colab": {
          "base_uri": "https://localhost:8080/"
        },
        "id": "GeMh4kRy4kZV",
        "outputId": "e58bc708-80ce-4029-dc74-6a7f6c585301"
      },
      "execution_count": null,
      "outputs": [
        {
          "output_type": "stream",
          "name": "stdout",
          "text": [
            "-6\n"
          ]
        }
      ]
    },
    {
      "cell_type": "code",
      "source": [
        "print(~acb)"
      ],
      "metadata": {
        "colab": {
          "base_uri": "https://localhost:8080/"
        },
        "id": "4M5GyyrU3ByI",
        "outputId": "c42ce207-0701-4dfa-8484-d76f67df1680"
      },
      "execution_count": null,
      "outputs": [
        {
          "output_type": "stream",
          "name": "stdout",
          "text": [
            "-5\n"
          ]
        }
      ]
    },
    {
      "cell_type": "code",
      "source": [
        "print (abc<<2) #0101 just movie number two bits left....010100.....We gain the bits left shift"
      ],
      "metadata": {
        "colab": {
          "base_uri": "https://localhost:8080/"
        },
        "id": "qH8fQB3A4q5E",
        "outputId": "884be15f-9960-48b0-817d-4af7d8476f01"
      },
      "execution_count": null,
      "outputs": [
        {
          "output_type": "stream",
          "name": "stdout",
          "text": [
            "20\n"
          ]
        }
      ]
    },
    {
      "cell_type": "code",
      "source": [
        "print (abc>>2) # 0101 will become...01.....we are going to loose the bits in righ shift or\n",
        "# simply you cancalculte if x is right shift by n....x/2 power n"
      ],
      "metadata": {
        "colab": {
          "base_uri": "https://localhost:8080/"
        },
        "id": "-vgDtvBT7mXu",
        "outputId": "e0ca8ee7-0d5c-44ce-f5d0-bc48532fec82"
      },
      "execution_count": null,
      "outputs": [
        {
          "output_type": "stream",
          "name": "stdout",
          "text": [
            "1\n"
          ]
        }
      ]
    },
    {
      "cell_type": "code",
      "source": [
        "#operator precendenece\n",
        "#~(highest), <<>>, & , ^, |"
      ],
      "metadata": {
        "id": "vHpJVRt8-dJX"
      },
      "execution_count": null,
      "outputs": []
    },
    {
      "cell_type": "markdown",
      "source": [
        "**Identity Operators**\n",
        "They are used to comapare the objects"
      ],
      "metadata": {
        "id": "8XY_uONC-efO"
      }
    },
    {
      "cell_type": "code",
      "source": [
        "#there are two types of identity operators \"is\" and \"is not\""
      ],
      "metadata": {
        "id": "QceuAiCn-dRr"
      },
      "execution_count": null,
      "outputs": []
    },
    {
      "cell_type": "code",
      "source": [
        "#memory manager in python reuses the objects instead of creating the objects for the same data.\n",
        "#every object has its object id\n",
        "xy=6\n",
        "yz=6\n",
        "print(xy is yz) #compares object id"
      ],
      "metadata": {
        "colab": {
          "base_uri": "https://localhost:8080/"
        },
        "id": "tuUAHopO8oDa",
        "outputId": "04793492-6db4-407e-ffac-d1e357a36307"
      },
      "execution_count": null,
      "outputs": [
        {
          "output_type": "stream",
          "name": "stdout",
          "text": [
            "True\n"
          ]
        }
      ]
    },
    {
      "cell_type": "code",
      "source": [
        "print(xy==yz)  #compares value"
      ],
      "metadata": {
        "colab": {
          "base_uri": "https://localhost:8080/"
        },
        "id": "zohEY6-oAD1q",
        "outputId": "b4fae9aa-a3c5-4f4c-84f1-8863a6cdc7c1"
      },
      "execution_count": null,
      "outputs": [
        {
          "output_type": "stream",
          "name": "stdout",
          "text": [
            "True\n"
          ]
        }
      ]
    },
    {
      "cell_type": "code",
      "source": [
        "print(id(xy))"
      ],
      "metadata": {
        "colab": {
          "base_uri": "https://localhost:8080/"
        },
        "id": "3gpzyuJpAnO3",
        "outputId": "7e416131-47eb-42d6-c09c-98c98a9f5dd2"
      },
      "execution_count": null,
      "outputs": [
        {
          "output_type": "stream",
          "name": "stdout",
          "text": [
            "139489687634320\n"
          ]
        }
      ]
    },
    {
      "cell_type": "code",
      "source": [
        "print(id(yz))"
      ],
      "metadata": {
        "colab": {
          "base_uri": "https://localhost:8080/"
        },
        "id": "CiYph51AAqxe",
        "outputId": "bc8aa11b-c931-4e27-b252-6cf3a86ad942"
      },
      "execution_count": null,
      "outputs": [
        {
          "output_type": "stream",
          "name": "stdout",
          "text": [
            "139489687634320\n"
          ]
        }
      ]
    },
    {
      "cell_type": "code",
      "source": [
        "abcd=5\n",
        "print(id(abcd))"
      ],
      "metadata": {
        "colab": {
          "base_uri": "https://localhost:8080/"
        },
        "id": "BAMTbvr0Bl_R",
        "outputId": "8d94b8cb-720f-4e92-e24b-68b13267d334"
      },
      "execution_count": null,
      "outputs": [
        {
          "output_type": "stream",
          "name": "stdout",
          "text": [
            "131937894285680\n"
          ]
        }
      ]
    },
    {
      "cell_type": "code",
      "source": [
        "abcd=6\n",
        "print(id(abcd))"
      ],
      "metadata": {
        "colab": {
          "base_uri": "https://localhost:8080/"
        },
        "id": "vrYvcM1bBt2Z",
        "outputId": "d643d835-d5a4-4a45-c29b-4a58c90248bf"
      },
      "execution_count": null,
      "outputs": [
        {
          "output_type": "stream",
          "name": "stdout",
          "text": [
            "131937894285712\n"
          ]
        }
      ]
    },
    {
      "cell_type": "markdown",
      "source": [
        "**MemberShip Operators**\n",
        "Membership operators are used to test if a sequence is presented in an object"
      ],
      "metadata": {
        "id": "UQWzrDEWF0r6"
      }
    },
    {
      "cell_type": "code",
      "source": [
        "\n",
        "'''\n",
        "there are two types of membership operators in python:\n",
        "\"in\" and \"not in\"\n",
        "\n",
        "'''"
      ],
      "metadata": {
        "colab": {
          "base_uri": "https://localhost:8080/",
          "height": 36
        },
        "id": "-mR3lpKxBxfm",
        "outputId": "314ea87a-58bc-4880-9213-bf96cf2fda3c"
      },
      "execution_count": null,
      "outputs": [
        {
          "output_type": "execute_result",
          "data": {
            "text/plain": [
              "'\\nthere are two types of membership operators in python:\\n\\n\"in\" and \"not in\"\\n\\n'"
            ],
            "application/vnd.google.colaboratory.intrinsic+json": {
              "type": "string"
            }
          },
          "metadata": {},
          "execution_count": 26
        }
      ]
    },
    {
      "cell_type": "code",
      "source": [
        "str =\"Touseef\"\n",
        "print('ef' not in str)"
      ],
      "metadata": {
        "colab": {
          "base_uri": "https://localhost:8080/"
        },
        "id": "-s2CcwAdB2D_",
        "outputId": "7d737b32-37fb-4928-dc0a-69b61eff6181"
      },
      "execution_count": null,
      "outputs": [
        {
          "output_type": "stream",
          "name": "stdout",
          "text": [
            "False\n"
          ]
        }
      ]
    },
    {
      "cell_type": "code",
      "source": [
        "print('fe' in str)"
      ],
      "metadata": {
        "colab": {
          "base_uri": "https://localhost:8080/"
        },
        "id": "HKcrXyUlH9Lb",
        "outputId": "6aa16649-d0f8-4593-fa26-e2dc1914000a"
      },
      "execution_count": null,
      "outputs": [
        {
          "output_type": "stream",
          "name": "stdout",
          "text": [
            "False\n"
          ]
        }
      ]
    },
    {
      "cell_type": "code",
      "source": [
        "round(21.35, 1)"
      ],
      "metadata": {
        "colab": {
          "base_uri": "https://localhost:8080/"
        },
        "id": "EHFEkK0GB6GH",
        "outputId": "26d7ca1a-7db2-423c-fcd0-9afe6e9d6e8f"
      },
      "execution_count": null,
      "outputs": [
        {
          "output_type": "execute_result",
          "data": {
            "text/plain": [
              "21.4"
            ]
          },
          "metadata": {},
          "execution_count": 27
        }
      ]
    },
    {
      "cell_type": "code",
      "source": [
        "print(round(5.5))\n",
        "\n",
        "\n"
      ],
      "metadata": {
        "colab": {
          "base_uri": "https://localhost:8080/"
        },
        "id": "W9lzGYUkC62i",
        "outputId": "b42b04f7-dc7b-41d6-a777-4552778950fb"
      },
      "execution_count": null,
      "outputs": [
        {
          "output_type": "stream",
          "name": "stdout",
          "text": [
            "6\n"
          ]
        }
      ]
    },
    {
      "cell_type": "markdown",
      "source": [
        "**Conditional Statements**\n",
        "decision making statements\n"
      ],
      "metadata": {
        "id": "YnBI6Li3oAgJ"
      }
    },
    {
      "cell_type": "code",
      "source": [
        "#fundamental programming constructs that allow you to control the flow of your program based on conditions that you specify.\n",
        "\n",
        "\n",
        "'''\n",
        "There are four types of conditional statements\n",
        "if statement\n",
        "if else statement\n",
        "if elif else statement\n",
        "nested if\n",
        "\"\"\n"
      ],
      "metadata": {
        "id": "n3_eAY59kEsk"
      },
      "execution_count": null,
      "outputs": []
    },
    {
      "cell_type": "code",
      "source": [],
      "metadata": {
        "id": "Wmr7u6DmUmeW"
      },
      "execution_count": null,
      "outputs": []
    },
    {
      "cell_type": "code",
      "source": [],
      "metadata": {
        "id": "ge544jU5UmmG"
      },
      "execution_count": null,
      "outputs": []
    },
    {
      "cell_type": "code",
      "source": [
        "#if statement\n",
        "age=int(input(\"Enter your age=\"))\n",
        "if age>18:\n",
        "  print(\"you can apply for licence\")\n",
        "  #print(\"you are not eligible\")#if you dont want to print anything after if block"
      ],
      "metadata": {
        "colab": {
          "base_uri": "https://localhost:8080/"
        },
        "id": "n24Mhp-Ton7K",
        "outputId": "fb2c6f0c-f8ec-4185-c711-bcd5fcb0354b"
      },
      "execution_count": null,
      "outputs": [
        {
          "output_type": "stream",
          "name": "stdout",
          "text": [
            "Enter your age=19\n",
            "you can apply for licence\n"
          ]
        }
      ]
    },
    {
      "cell_type": "code",
      "source": [
        "#if else statemt\n",
        "age=int(input(\"Enter your age=\"))\n",
        "if age>18:\n",
        "  print(\"you can apply for licence\")\n",
        "else:\n",
        "  print(\"you are not eligible\")\n"
      ],
      "metadata": {
        "colab": {
          "base_uri": "https://localhost:8080/"
        },
        "id": "kQW1l11wp5Ig",
        "outputId": "de00cccd-b511-469f-9ccd-88371d8a4474"
      },
      "execution_count": null,
      "outputs": [
        {
          "output_type": "stream",
          "name": "stdout",
          "text": [
            "Enter your age=19\n",
            "you can apply for licence\n"
          ]
        }
      ]
    },
    {
      "cell_type": "code",
      "source": [
        "Number = int(input(\"Enter the number=\"))\n",
        "if Number % 2==0:\n",
        "  print(\"It is an Even Number \")\n",
        "else:\n",
        "  print(\"It is an odd Number\")\n",
        "  print(\"Thankyou\")"
      ],
      "metadata": {
        "colab": {
          "base_uri": "https://localhost:8080/"
        },
        "id": "mfW3YU7pV5Of",
        "outputId": "10de248f-8fb4-498b-e7f9-38ae4a5f7231"
      },
      "execution_count": null,
      "outputs": [
        {
          "output_type": "stream",
          "name": "stdout",
          "text": [
            "Enter the number=32\n",
            "It is an Even Number \n"
          ]
        }
      ]
    },
    {
      "cell_type": "markdown",
      "source": [
        "**Nested if** If inside If"
      ],
      "metadata": {
        "id": "uNp8VriJZKZ8"
      }
    },
    {
      "cell_type": "code",
      "source": [
        "\"\"\"\"\n",
        "\n",
        "if condition1\n",
        "   statement 1\n",
        "   if condition2\n",
        "      statement2\n",
        "        if condition3\n",
        "           statement3.......Level of Nesting\n",
        "\n",
        "The indentation will identify the level of nesting.\n",
        "\n",
        "\"\"\"\"\"\n",
        "\n",
        "#supermarket example::: To buy fruits"
      ],
      "metadata": {
        "id": "DUPzuhsNV5Rq"
      },
      "execution_count": null,
      "outputs": []
    },
    {
      "cell_type": "code",
      "source": [
        "a=32\n",
        "if a%2==0:\n",
        "  print(\"Number is even\")\n",
        "  print(\"Great\")\n",
        "  if a>30:\n",
        "    print(\"number is greater than 30 great\")\n",
        "print(\"Bye\")"
      ],
      "metadata": {
        "colab": {
          "base_uri": "https://localhost:8080/"
        },
        "id": "UsFJY4uakeZa",
        "outputId": "3f98b461-1b93-4c80-f002-9b57e6916e0f"
      },
      "execution_count": null,
      "outputs": [
        {
          "output_type": "stream",
          "name": "stdout",
          "text": [
            "Number is even\n",
            "Great\n",
            "number is greater than 30 great\n",
            "Bye\n"
          ]
        }
      ]
    },
    {
      "cell_type": "code",
      "source": [],
      "metadata": {
        "id": "d2EdAz15kecw"
      },
      "execution_count": null,
      "outputs": []
    },
    {
      "cell_type": "code",
      "source": [],
      "metadata": {
        "id": "fqIA27LkkegV"
      },
      "execution_count": null,
      "outputs": []
    },
    {
      "cell_type": "markdown",
      "source": [
        "**Nested If else** If the complete if else block is either inside if or else block"
      ],
      "metadata": {
        "id": "2v0tArMNaqJ0"
      }
    },
    {
      "cell_type": "code",
      "source": [
        "\"\"\"\n",
        "if condition1\n",
        "   statement 1\n",
        "   if condition2\n",
        "      statement2\n",
        "   else:\n",
        "            statement3\n",
        "else:\n",
        "  statement4\n",
        "\n",
        "  it can also be after else block\n",
        "  \"\"\""
      ],
      "metadata": {
        "id": "djdbLw06V5U1"
      },
      "execution_count": null,
      "outputs": []
    },
    {
      "cell_type": "code",
      "source": [
        "#we are going in a park and they ask you about your age to check how mmuch money you have to pay for ticket\n",
        "ht = int(input(\"Enter your height=\"))\n",
        "if ht >=4:\n",
        "  print(\"you can ride\")\n",
        "  age = int(input(\"enter your age\"))\n",
        "  if age<=18:\n",
        "    print(\"you have to pay 250rs\")\n",
        "  else:\n",
        "    print(\"you have to pay 500rs\")\n",
        "else:\n",
        "  print(\"You cannot ride\")\n",
        "print(\"Thankyou\")\n",
        "\n",
        "\n"
      ],
      "metadata": {
        "colab": {
          "base_uri": "https://localhost:8080/"
        },
        "id": "2dtJKz2lV5X6",
        "outputId": "45b3b7da-3366-4f11-ab52-cd67deca38fe"
      },
      "execution_count": null,
      "outputs": [
        {
          "output_type": "stream",
          "name": "stdout",
          "text": [
            "Enter your height=5\n",
            "you can ride\n",
            "enter your age18\n",
            "you have to pay 250rs\n",
            "Thankyou\n"
          ]
        }
      ]
    },
    {
      "cell_type": "code",
      "source": [
        "\"\"\"\"\n",
        "1if condition 1:\n",
        "  statement1\n",
        "elif condition2:\n",
        "  statement2\n",
        "elif condition3:\n",
        "  statement3\n",
        "  .\n",
        "  .\n",
        "  .\n",
        "elif condition n:\n",
        "  statement n\n",
        "else:\n",
        "  else block statemeents\n",
        "\"\"\"\n",
        "nmber = int(input(\"enter the input\"))\n",
        "if nmber==1:\n",
        "  print(\"One\")\n",
        "if nmber==2:\n",
        "  print(\"Two\")\n",
        "if nmber==3:\n",
        "  print(\"Three\")\n",
        "if nmber==4:\n",
        "  print(\"Four\")\n",
        "print(\"bye\")\n"
      ],
      "metadata": {
        "colab": {
          "base_uri": "https://localhost:8080/"
        },
        "id": "L0sYlAyFe9oX",
        "outputId": "46484990-39d6-4bff-cc93-bc96cecb6ea7"
      },
      "execution_count": null,
      "outputs": [
        {
          "output_type": "stream",
          "name": "stdout",
          "text": [
            "enter the input2\n",
            "Two\n",
            "bye\n"
          ]
        }
      ]
    },
    {
      "cell_type": "markdown",
      "source": [
        "**elif** When you have more than two alternatives, we use elif"
      ],
      "metadata": {
        "id": "9Soy555necfI"
      }
    },
    {
      "cell_type": "code",
      "source": [
        "#if elif else\n",
        "number = int(input(\"enter the number between 0 to 30..\"))\n",
        "if(number>0 and number <=10):\n",
        "  print(\"Number Ranges from 0 to 10\")\n",
        "elif(number >10 and number <=20):\n",
        "  print(\"Number ranges from 10 to 20\")\n",
        "elif(number>20 and number <=30):\n",
        "  print(\"Number ranges from 20 to 30\")\n",
        "else:\n",
        "  print(\"You have not entered a correct number\")\n"
      ],
      "metadata": {
        "colab": {
          "base_uri": "https://localhost:8080/"
        },
        "id": "MuFQu3XJvIW9",
        "outputId": "d49f2978-2b24-4691-ef41-f73cc13632cb"
      },
      "execution_count": null,
      "outputs": [
        {
          "output_type": "stream",
          "name": "stdout",
          "text": [
            "enter the number between 0 to 30..34\n",
            "You have not entered a correct number\n"
          ]
        }
      ]
    },
    {
      "cell_type": "code",
      "source": [
        " #nested if else\n",
        "Height1=int(input(\"enter your height\"))\n",
        "if Height1>3:\n",
        "  print(\"you can ride\")\n",
        "  age1=int(input(\"enter your age\"))\n",
        "  if age1<=15:\n",
        "    print(\"you have to pay only 25 rupees\")\n",
        "    print(\"Thankyou\")\n",
        "  elif age1>15:\n",
        "   print(\"you have to pay 50 rupees\")\n",
        "   print(\"Please!\")\n",
        "else:\n",
        "  print(\"you cannot ride\")\n",
        "  print(\"Sorry\")"
      ],
      "metadata": {
        "colab": {
          "base_uri": "https://localhost:8080/"
        },
        "id": "QpgOYFufvIjA",
        "outputId": "8c92d62f-9dce-4c6e-9e45-506ab0b4914a"
      },
      "execution_count": null,
      "outputs": [
        {
          "output_type": "stream",
          "name": "stdout",
          "text": [
            "enter your height1\n",
            "you cannot ride\n",
            "Sorry\n"
          ]
        }
      ]
    },
    {
      "cell_type": "code",
      "source": [
        "#Program BMI Calculator\n",
        "weight1=float(input(\"Enter the weight\"))\n",
        "height1=float(input(\"Enter the height\"))\n",
        "#bmi=weight1/height1**2\n",
        "bmi=round(weight1/height1**2)\n",
        "if bmi < 18.5:\n",
        "  print(f\"Your BMI is {bmi} and you are under weight\")\n",
        "elif bmi < 25:\n",
        "  print(f\"Your BMI is {bmi} and you have normal weight\")\n",
        "elif bmi < 30:\n",
        "  print(f\"Your BMI is {bmi} and you have overweight\")\n",
        "elif bmi < 35:\n",
        "  print(f\"Your BMI is {bmi} and you are obese\")\n",
        "else:\n",
        "  print(f\" your BMI is {bmi} and you are clinically obese\")\n",
        "\n"
      ],
      "metadata": {
        "colab": {
          "base_uri": "https://localhost:8080/"
        },
        "id": "XBTjLeRvBWBD",
        "outputId": "3984c511-526c-4b4e-cbf3-41b0fbc10574"
      },
      "execution_count": null,
      "outputs": [
        {
          "output_type": "stream",
          "name": "stdout",
          "text": [
            "Enter the weight80\n",
            "Enter the height1.7\n",
            "Your BMI is 28 and you have overweight\n"
          ]
        }
      ]
    },
    {
      "cell_type": "code",
      "source": [
        "#leap year program\n",
        "Year=int(input(\"Enter the Year you want to check\"))\n",
        "if Year % 4 ==0:\n",
        "  if Year % 100 ==0:\n",
        "    if Year % 400 ==0:\n",
        "      print(\"Leap Year\")\n",
        "    else:\n",
        "      print(\"Not a leap year\")\n",
        "  else:\n",
        "     print(\"Leap Year\")\n",
        "else:\n",
        "  print(\"it is not leap year\")\n",
        "\n"
      ],
      "metadata": {
        "colab": {
          "base_uri": "https://localhost:8080/"
        },
        "id": "VZeccLSluF2z",
        "outputId": "79ef4f1f-4dea-41ec-dd2d-48f81b41c463"
      },
      "execution_count": null,
      "outputs": [
        {
          "output_type": "stream",
          "name": "stdout",
          "text": [
            "Enter the Year you want to check1996\n",
            "Leap Year\n"
          ]
        }
      ]
    }
  ]
}